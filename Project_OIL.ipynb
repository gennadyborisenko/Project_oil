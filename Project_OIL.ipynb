{
 "cells": [
  {
   "cell_type": "markdown",
   "metadata": {},
   "source": [
    "# Выбор локации для скважины"
   ]
  },
  {
   "cell_type": "markdown",
   "metadata": {},
   "source": [
    "Допустим, вы работаете в добывающей компании «ГлавРосГосНефть». \n",
    "\n",
    "**Цель:** Нужно решить, где бурить новую скважину.\n",
    "\n",
    "Вам предоставлены пробы нефти в трёх регионах: в каждом 10 000 месторождений, где измерили качество нефти и объём её запасов. Постройте модель машинного обучения, которая поможет определить регион, где добыча принесёт наибольшую прибыль. Проанализируйте возможную прибыль и риски техникой *Bootstrap.*\n",
    "\n",
    "Задачи для выбора локации:\n",
    "\n",
    "- В избранном регионе ищут месторождения, для каждого определяют значения признаков;\n",
    "- Строят модель и оценивают объём запасов;\n",
    "- Выбирают месторождения с самым высокими оценками значений. Количество месторождений зависит от бюджета компании и стоимости разработки одной скважины;\n",
    "- Прибыль равна суммарной прибыли отобранных месторождений.\n",
    "\n",
    "Содержание:\n",
    "1. Загрузка данных \n",
    "4. Подготовка данных к моделированию\n",
    "4. Обучение модели\n",
    "5. Подготовка к расчету прибыли\n",
    "6. Расчет прибыли\n",
    "7. Расчет рисков\n",
    "7. Общие выводы"
   ]
  },
  {
   "cell_type": "markdown",
   "metadata": {},
   "source": [
    "Данные для работы:\n",
    "    \n",
    "1. id — уникальный идентификатор скважины;\n",
    "2. f0, f1, f2 — три признака точек (неважно, что они означают, но сами признаки значимы);\n",
    "3. product — объём запасов в скважине (тыс. баррелей).\n",
    "\n",
    "Условия задачи:\n",
    "\n",
    "* Для обучения модели подходит только линейная регрессия (остальные — недостаточно предсказуемые).\n",
    "* При разведке региона исследуют 500 точек, из которых с помощью машинного обучения выбирают 200 лучших для разработки.\n",
    "* Бюджет на разработку скважин в регионе — 10 млрд рублей.\n",
    "* При нынешних ценах один баррель сырья приносит 450 рублей дохода. Доход с каждой единицы продукта составляет 450 тыс. рублей, поскольку объём указан в тысячах баррелей.\n",
    "* После оценки рисков нужно оставить лишь те регионы, в которых вероятность убытков меньше 2.5%. Среди них выбирают регион с наибольшей средней прибылью.\n",
    "\n",
    "Импорт необходимых библиотек и констант:"
   ]
  },
  {
   "cell_type": "code",
   "execution_count": 11,
   "metadata": {},
   "outputs": [],
   "source": [
    "import pandas as pd\n",
    "import numpy as np\n",
    "import matplotlib.pyplot as plt\n",
    "\n",
    "from scipy import stats as st\n",
    "\n",
    "\n",
    "from sklearn.linear_model import LinearRegression\n",
    "from sklearn.model_selection import (GridSearchCV, RandomizedSearchCV,\n",
    "                                     train_test_split)\n",
    "from sklearn.metrics import mean_squared_error\n",
    "from sklearn.metrics import mean_absolute_error\n",
    "RANDOM_STATE = 42\n",
    "TEST_SIZE = 0.25\n",
    "\n",
    "class color:\n",
    "    PURPLE = '\\033[95m'\n",
    "    CYAN = '\\033[96m'\n",
    "    DARKCYAN = '\\033[36m'\n",
    "    BLUE = '\\033[94m'\n",
    "    GREEN = '\\033[92m'\n",
    "    YELLOW = '\\033[93m'\n",
    "    RED = '\\033[91m'\n",
    "    BOLD = '\\033[1m'\n",
    "    UNDERLINE = '\\033[4m'\n",
    "    END = '\\033[0m'\n",
    "    "
   ]
  },
  {
   "cell_type": "markdown",
   "metadata": {},
   "source": [
    "## Загрузка данных"
   ]
  },
  {
   "cell_type": "markdown",
   "metadata": {},
   "source": [
    "Загрузим данные двумя путями, для работы в локальном окружении или онлайн"
   ]
  },
  {
   "cell_type": "code",
   "execution_count": 2,
   "metadata": {},
   "outputs": [],
   "source": [
    "try:\n",
    "    geo_data_0 = pd.read_csv('/datasets/geo_data_0.csv')\n",
    "    geo_data_1 = pd.read_csv('/datasets/geo_data_1.csv')\n",
    "    geo_data_2 = pd.read_csv('/datasets/geo_data_2.csv')\n",
    "except:\n",
    "    geo_data_0 = pd.read_csv('geo_data_0.csv')\n",
    "    geo_data_1 = pd.read_csv('geo_data_1.csv')\n",
    "    geo_data_2 = pd.read_csv('geo_data_2.csv')\n",
    "    \n",
    "dfs=[(geo_data_0, 'Регион_1'), (geo_data_1, 'Регион_2'), (geo_data_2, 'Регион_3')]    "
   ]
  },
  {
   "cell_type": "markdown",
   "metadata": {},
   "source": [
    "Выведем общую информацию"
   ]
  },
  {
   "cell_type": "code",
   "execution_count": 3,
   "metadata": {
    "scrolled": false
   },
   "outputs": [
    {
     "name": "stdout",
     "output_type": "stream",
     "text": [
      "\u001b[1mDataFrame 1 Файл: Регион_1\u001b[0m\n",
      "\u001b[1mInfo:\u001b[0m\n",
      "<class 'pandas.core.frame.DataFrame'>\n",
      "RangeIndex: 100000 entries, 0 to 99999\n",
      "Data columns (total 5 columns):\n",
      " #   Column   Non-Null Count   Dtype  \n",
      "---  ------   --------------   -----  \n",
      " 0   id       100000 non-null  object \n",
      " 1   f0       100000 non-null  float64\n",
      " 2   f1       100000 non-null  float64\n",
      " 3   f2       100000 non-null  float64\n",
      " 4   product  100000 non-null  float64\n",
      "dtypes: float64(4), object(1)\n",
      "memory usage: 3.8+ MB\n"
     ]
    },
    {
     "data": {
      "text/plain": [
       "None"
      ]
     },
     "metadata": {},
     "output_type": "display_data"
    },
    {
     "name": "stdout",
     "output_type": "stream",
     "text": [
      "\u001b[1m\n",
      "Head:\u001b[0m\n"
     ]
    },
    {
     "data": {
      "text/html": [
       "<div>\n",
       "<style scoped>\n",
       "    .dataframe tbody tr th:only-of-type {\n",
       "        vertical-align: middle;\n",
       "    }\n",
       "\n",
       "    .dataframe tbody tr th {\n",
       "        vertical-align: top;\n",
       "    }\n",
       "\n",
       "    .dataframe thead th {\n",
       "        text-align: right;\n",
       "    }\n",
       "</style>\n",
       "<table border=\"1\" class=\"dataframe\">\n",
       "  <thead>\n",
       "    <tr style=\"text-align: right;\">\n",
       "      <th></th>\n",
       "      <th>id</th>\n",
       "      <th>f0</th>\n",
       "      <th>f1</th>\n",
       "      <th>f2</th>\n",
       "      <th>product</th>\n",
       "    </tr>\n",
       "  </thead>\n",
       "  <tbody>\n",
       "    <tr>\n",
       "      <th>0</th>\n",
       "      <td>txEyH</td>\n",
       "      <td>0.705745</td>\n",
       "      <td>-0.497823</td>\n",
       "      <td>1.221170</td>\n",
       "      <td>105.280062</td>\n",
       "    </tr>\n",
       "    <tr>\n",
       "      <th>1</th>\n",
       "      <td>2acmU</td>\n",
       "      <td>1.334711</td>\n",
       "      <td>-0.340164</td>\n",
       "      <td>4.365080</td>\n",
       "      <td>73.037750</td>\n",
       "    </tr>\n",
       "    <tr>\n",
       "      <th>2</th>\n",
       "      <td>409Wp</td>\n",
       "      <td>1.022732</td>\n",
       "      <td>0.151990</td>\n",
       "      <td>1.419926</td>\n",
       "      <td>85.265647</td>\n",
       "    </tr>\n",
       "    <tr>\n",
       "      <th>3</th>\n",
       "      <td>iJLyR</td>\n",
       "      <td>-0.032172</td>\n",
       "      <td>0.139033</td>\n",
       "      <td>2.978566</td>\n",
       "      <td>168.620776</td>\n",
       "    </tr>\n",
       "    <tr>\n",
       "      <th>4</th>\n",
       "      <td>Xdl7t</td>\n",
       "      <td>1.988431</td>\n",
       "      <td>0.155413</td>\n",
       "      <td>4.751769</td>\n",
       "      <td>154.036647</td>\n",
       "    </tr>\n",
       "  </tbody>\n",
       "</table>\n",
       "</div>"
      ],
      "text/plain": [
       "      id        f0        f1        f2     product\n",
       "0  txEyH  0.705745 -0.497823  1.221170  105.280062\n",
       "1  2acmU  1.334711 -0.340164  4.365080   73.037750\n",
       "2  409Wp  1.022732  0.151990  1.419926   85.265647\n",
       "3  iJLyR -0.032172  0.139033  2.978566  168.620776\n",
       "4  Xdl7t  1.988431  0.155413  4.751769  154.036647"
      ]
     },
     "metadata": {},
     "output_type": "display_data"
    },
    {
     "name": "stdout",
     "output_type": "stream",
     "text": [
      "\n",
      "Пропуски: \n",
      "id         0\n",
      "f0         0\n",
      "f1         0\n",
      "f2         0\n",
      "product    0\n",
      "dtype: int64\n",
      "\n",
      "Дубликаты: \n",
      "0\n",
      "\u001b[1mEND_OF_INFO\u001b[0m\n",
      " \n",
      "\u001b[1mDataFrame 2 Файл: Регион_2\u001b[0m\n",
      "\u001b[1mInfo:\u001b[0m\n",
      "<class 'pandas.core.frame.DataFrame'>\n",
      "RangeIndex: 100000 entries, 0 to 99999\n",
      "Data columns (total 5 columns):\n",
      " #   Column   Non-Null Count   Dtype  \n",
      "---  ------   --------------   -----  \n",
      " 0   id       100000 non-null  object \n",
      " 1   f0       100000 non-null  float64\n",
      " 2   f1       100000 non-null  float64\n",
      " 3   f2       100000 non-null  float64\n",
      " 4   product  100000 non-null  float64\n",
      "dtypes: float64(4), object(1)\n",
      "memory usage: 3.8+ MB\n"
     ]
    },
    {
     "data": {
      "text/plain": [
       "None"
      ]
     },
     "metadata": {},
     "output_type": "display_data"
    },
    {
     "name": "stdout",
     "output_type": "stream",
     "text": [
      "\u001b[1m\n",
      "Head:\u001b[0m\n"
     ]
    },
    {
     "data": {
      "text/html": [
       "<div>\n",
       "<style scoped>\n",
       "    .dataframe tbody tr th:only-of-type {\n",
       "        vertical-align: middle;\n",
       "    }\n",
       "\n",
       "    .dataframe tbody tr th {\n",
       "        vertical-align: top;\n",
       "    }\n",
       "\n",
       "    .dataframe thead th {\n",
       "        text-align: right;\n",
       "    }\n",
       "</style>\n",
       "<table border=\"1\" class=\"dataframe\">\n",
       "  <thead>\n",
       "    <tr style=\"text-align: right;\">\n",
       "      <th></th>\n",
       "      <th>id</th>\n",
       "      <th>f0</th>\n",
       "      <th>f1</th>\n",
       "      <th>f2</th>\n",
       "      <th>product</th>\n",
       "    </tr>\n",
       "  </thead>\n",
       "  <tbody>\n",
       "    <tr>\n",
       "      <th>0</th>\n",
       "      <td>kBEdx</td>\n",
       "      <td>-15.001348</td>\n",
       "      <td>-8.276000</td>\n",
       "      <td>-0.005876</td>\n",
       "      <td>3.179103</td>\n",
       "    </tr>\n",
       "    <tr>\n",
       "      <th>1</th>\n",
       "      <td>62mP7</td>\n",
       "      <td>14.272088</td>\n",
       "      <td>-3.475083</td>\n",
       "      <td>0.999183</td>\n",
       "      <td>26.953261</td>\n",
       "    </tr>\n",
       "    <tr>\n",
       "      <th>2</th>\n",
       "      <td>vyE1P</td>\n",
       "      <td>6.263187</td>\n",
       "      <td>-5.948386</td>\n",
       "      <td>5.001160</td>\n",
       "      <td>134.766305</td>\n",
       "    </tr>\n",
       "    <tr>\n",
       "      <th>3</th>\n",
       "      <td>KcrkZ</td>\n",
       "      <td>-13.081196</td>\n",
       "      <td>-11.506057</td>\n",
       "      <td>4.999415</td>\n",
       "      <td>137.945408</td>\n",
       "    </tr>\n",
       "    <tr>\n",
       "      <th>4</th>\n",
       "      <td>AHL4O</td>\n",
       "      <td>12.702195</td>\n",
       "      <td>-8.147433</td>\n",
       "      <td>5.004363</td>\n",
       "      <td>134.766305</td>\n",
       "    </tr>\n",
       "  </tbody>\n",
       "</table>\n",
       "</div>"
      ],
      "text/plain": [
       "      id         f0         f1        f2     product\n",
       "0  kBEdx -15.001348  -8.276000 -0.005876    3.179103\n",
       "1  62mP7  14.272088  -3.475083  0.999183   26.953261\n",
       "2  vyE1P   6.263187  -5.948386  5.001160  134.766305\n",
       "3  KcrkZ -13.081196 -11.506057  4.999415  137.945408\n",
       "4  AHL4O  12.702195  -8.147433  5.004363  134.766305"
      ]
     },
     "metadata": {},
     "output_type": "display_data"
    },
    {
     "name": "stdout",
     "output_type": "stream",
     "text": [
      "\n",
      "Пропуски: \n",
      "id         0\n",
      "f0         0\n",
      "f1         0\n",
      "f2         0\n",
      "product    0\n",
      "dtype: int64\n",
      "\n",
      "Дубликаты: \n",
      "0\n",
      "\u001b[1mEND_OF_INFO\u001b[0m\n",
      " \n",
      "\u001b[1mDataFrame 3 Файл: Регион_3\u001b[0m\n",
      "\u001b[1mInfo:\u001b[0m\n",
      "<class 'pandas.core.frame.DataFrame'>\n",
      "RangeIndex: 100000 entries, 0 to 99999\n",
      "Data columns (total 5 columns):\n",
      " #   Column   Non-Null Count   Dtype  \n",
      "---  ------   --------------   -----  \n",
      " 0   id       100000 non-null  object \n",
      " 1   f0       100000 non-null  float64\n",
      " 2   f1       100000 non-null  float64\n",
      " 3   f2       100000 non-null  float64\n",
      " 4   product  100000 non-null  float64\n",
      "dtypes: float64(4), object(1)\n",
      "memory usage: 3.8+ MB\n"
     ]
    },
    {
     "data": {
      "text/plain": [
       "None"
      ]
     },
     "metadata": {},
     "output_type": "display_data"
    },
    {
     "name": "stdout",
     "output_type": "stream",
     "text": [
      "\u001b[1m\n",
      "Head:\u001b[0m\n"
     ]
    },
    {
     "data": {
      "text/html": [
       "<div>\n",
       "<style scoped>\n",
       "    .dataframe tbody tr th:only-of-type {\n",
       "        vertical-align: middle;\n",
       "    }\n",
       "\n",
       "    .dataframe tbody tr th {\n",
       "        vertical-align: top;\n",
       "    }\n",
       "\n",
       "    .dataframe thead th {\n",
       "        text-align: right;\n",
       "    }\n",
       "</style>\n",
       "<table border=\"1\" class=\"dataframe\">\n",
       "  <thead>\n",
       "    <tr style=\"text-align: right;\">\n",
       "      <th></th>\n",
       "      <th>id</th>\n",
       "      <th>f0</th>\n",
       "      <th>f1</th>\n",
       "      <th>f2</th>\n",
       "      <th>product</th>\n",
       "    </tr>\n",
       "  </thead>\n",
       "  <tbody>\n",
       "    <tr>\n",
       "      <th>0</th>\n",
       "      <td>fwXo0</td>\n",
       "      <td>-1.146987</td>\n",
       "      <td>0.963328</td>\n",
       "      <td>-0.828965</td>\n",
       "      <td>27.758673</td>\n",
       "    </tr>\n",
       "    <tr>\n",
       "      <th>1</th>\n",
       "      <td>WJtFt</td>\n",
       "      <td>0.262778</td>\n",
       "      <td>0.269839</td>\n",
       "      <td>-2.530187</td>\n",
       "      <td>56.069697</td>\n",
       "    </tr>\n",
       "    <tr>\n",
       "      <th>2</th>\n",
       "      <td>ovLUW</td>\n",
       "      <td>0.194587</td>\n",
       "      <td>0.289035</td>\n",
       "      <td>-5.586433</td>\n",
       "      <td>62.871910</td>\n",
       "    </tr>\n",
       "    <tr>\n",
       "      <th>3</th>\n",
       "      <td>q6cA6</td>\n",
       "      <td>2.236060</td>\n",
       "      <td>-0.553760</td>\n",
       "      <td>0.930038</td>\n",
       "      <td>114.572842</td>\n",
       "    </tr>\n",
       "    <tr>\n",
       "      <th>4</th>\n",
       "      <td>WPMUX</td>\n",
       "      <td>-0.515993</td>\n",
       "      <td>1.716266</td>\n",
       "      <td>5.899011</td>\n",
       "      <td>149.600746</td>\n",
       "    </tr>\n",
       "  </tbody>\n",
       "</table>\n",
       "</div>"
      ],
      "text/plain": [
       "      id        f0        f1        f2     product\n",
       "0  fwXo0 -1.146987  0.963328 -0.828965   27.758673\n",
       "1  WJtFt  0.262778  0.269839 -2.530187   56.069697\n",
       "2  ovLUW  0.194587  0.289035 -5.586433   62.871910\n",
       "3  q6cA6  2.236060 -0.553760  0.930038  114.572842\n",
       "4  WPMUX -0.515993  1.716266  5.899011  149.600746"
      ]
     },
     "metadata": {},
     "output_type": "display_data"
    },
    {
     "name": "stdout",
     "output_type": "stream",
     "text": [
      "\n",
      "Пропуски: \n",
      "id         0\n",
      "f0         0\n",
      "f1         0\n",
      "f2         0\n",
      "product    0\n",
      "dtype: int64\n",
      "\n",
      "Дубликаты: \n",
      "0\n",
      "\u001b[1mEND_OF_INFO\u001b[0m\n",
      " \n"
     ]
    }
   ],
   "source": [
    "def display_info_and_describe(dfs):\n",
    "    for i, (df, filename) in enumerate(dfs):\n",
    "        print(color.BOLD + f\"DataFrame {i + 1} Файл: {filename}\" + color.END)\n",
    "        print(color.BOLD + \"Info:\"  + color.END)\n",
    "        display(df.info())\n",
    "        print(color.BOLD + \"\\nHead:\" + color.END)\n",
    "        display(df.head())\n",
    "        print(f'\\nПропуски: \\n{df.isna().sum()}')\n",
    "        print(f'\\nДубликаты: \\n{df.duplicated().sum()}')\n",
    "        print(color.BOLD + 'END_OF_INFO' + color.END)\n",
    "        print(' ')\n",
    "display_info_and_describe(dfs)"
   ]
  },
  {
   "cell_type": "markdown",
   "metadata": {},
   "source": [
    "По первичному обзору данных можно сделать следующие **выводы:** \n",
    "\n",
    "- Названия колонок таблицы в порядке\n",
    "- Типы данных отвечают техническому заданию\n",
    "- Пропусков нет\n",
    "- Явных дубликатов нет\n",
    "- Таблицы по трем регионам имеют сходный размер (100000 строк)\n"
   ]
  },
  {
   "cell_type": "code",
   "execution_count": 4,
   "metadata": {},
   "outputs": [
    {
     "data": {
      "image/png": "[encoded data removed]",
      "text/plain": [
       "<Figure size 864x504 with 4 Axes>"
      ]
     },
     "metadata": {
      "needs_background": "light"
     },
     "output_type": "display_data"
    },
    {
     "data": {
      "image/png": "[encoded data removed]",
      "text/plain": [
       "<Figure size 864x504 with 4 Axes>"
      ]
     },
     "metadata": {
      "needs_background": "light"
     },
     "output_type": "display_data"
    },
    {
     "data": {
      "image/png": "[encoded data removed]",
      "text/plain": [
       "<Figure size 864x504 with 4 Axes>"
      ]
     },
     "metadata": {
      "needs_background": "light"
     },
     "output_type": "display_data"
    }
   ],
   "source": [
    "def graphs(df, filename, color):\n",
    "    cols = ['f0', 'f1', 'f2', 'product']\n",
    "    fig, axes = plt.subplots(2, 2, figsize=(12, 7))\n",
    "    axes = axes.flatten()\n",
    "\n",
    "    for i, ax in zip(cols, axes):\n",
    "        df[i].hist(bins=20, label=filename, stacked=False, ax=ax, color=color)\n",
    "        ax.legend(loc='best')\n",
    "        ax.set_xlabel('Значение параметра')\n",
    "        ax.set_ylabel('Частота')\n",
    "        ax.set_title(f'Гистограммы распределения параметра {i}')\n",
    "    fig.suptitle(f'Гистограммы {filename}', fontsize=16)    \n",
    "\n",
    "    plt.tight_layout()\n",
    "    plt.show()\n",
    "\n",
    "colors = ['green', 'blue', 'orange'] \n",
    "for (df, name), color in zip(dfs, colors): \n",
    "    graphs(df, name, color) \n"
   ]
  },
  {
   "cell_type": "code",
   "execution_count": 5,
   "metadata": {
    "scrolled": false
   },
   "outputs": [
    {
     "data": {
      "image/png": "[encoded data removed]",
      "text/plain": [
       "<Figure size 1080x720 with 4 Axes>"
      ]
     },
     "metadata": {
      "needs_background": "light"
     },
     "output_type": "display_data"
    }
   ],
   "source": [
    "cols = ['f0', 'f1', 'f2', 'product']\n",
    "\n",
    "fig, axes = plt.subplots(2, 2, figsize=(15,10))\n",
    "axes = axes.flatten()\n",
    "\n",
    "for col, ax in zip(cols, axes):\n",
    "    for df, filename in dfs:\n",
    "        df[col].hist(bins=20, label=filename, ax=ax, histtype=\"step\", linewidth=2)\n",
    "        ax.legend(loc='best')\n",
    "        ax.grid(False)\n",
    "        ax.set_xlabel(f'Значение параметра {col}')\n",
    "        ax.set_ylabel('Частота')\n",
    "        ax.set_title(f'Гистограммы распределения параметра {col}')\n",
    "          \n",
    "plt.show()\n"
   ]
  },
  {
   "cell_type": "markdown",
   "metadata": {},
   "source": [
    "Для 3 регионов построены гистограммы распределения параметров f0, f1, f2, отдельно опишу распределения параметров по каждому файлу:\n",
    "\n",
    "1. geo_data_0: \n",
    "    1. Параметр f0 мультимодальное распределение вблизи 0\n",
    "    2. Параметр f1 мультимодальное распределение вблизи 0\n",
    "    3. Параметр f2 нормальное распределение\n",
    "    4. Парамер product распределен нормально\n",
    "2. geo_data_1:\n",
    "    1. Параметр f0 бимодальное распределение\n",
    "    2. Параметр f1 нормальное распределение\n",
    "    3. Параметр f2 мультимодальное распледеление в диапазоне 0-5\n",
    "    4. Парамер product имеет значительные выбросы\n",
    "3. geo_data_2:\n",
    "    1. Параметр f0 нормальное распределение\n",
    "    2. Параметр f1 нормальное распределение\n",
    "    3. Параметр f2 нормальное распределение\n",
    "    4. Парамер product распределен нормально\n",
    "    \n",
    "Из-за разных типов распределений стандартные статистические критерии могут не работать.\n",
    "\n",
    "В целом из-за сходных значений не обязательно применять масштабирование, также его не нужно применять из-за ненужности для требуемой модели Линейной Регрессии."
   ]
  },
  {
   "cell_type": "markdown",
   "metadata": {},
   "source": [
    "## Подготовка данных к моделированию"
   ]
  },
  {
   "cell_type": "markdown",
   "metadata": {},
   "source": [
    "Функция для выявления прогнозных значений и RMSE"
   ]
  },
  {
   "cell_type": "code",
   "execution_count": 6,
   "metadata": {},
   "outputs": [],
   "source": [
    "def preprocessing(df):\n",
    "    X = df.drop(columns=['product', 'id'], axis=1)\n",
    "    y= df['product']\n",
    "    X_train, X_val, y_train, y_val = train_test_split(X,  y, random_state=RANDOM_STATE, test_size=TEST_SIZE)\n",
    "    model_lr  = LinearRegression()\n",
    "    model_lr.fit(X_train, y_train)\n",
    "    predictions = model_lr.predict(X_val)\n",
    "    mae = mean_absolute_error(y_val, predictions) \n",
    "    rmse = (np.sqrt(mae)).round(2)\n",
    "    data = {\n",
    "    'RMSE': [rmse],\n",
    "    'СЗПС': [predictions.mean().round(2)],\n",
    "    'Реальный средний запас сырья' : [y_val.mean().round(2)]\n",
    "               \n",
    "}    \n",
    "    data = pd.DataFrame(data)\n",
    "    saved_table = pd.DataFrame({'Actual': y_val, 'Predicted': predictions})\n",
    "    return data, saved_table"
   ]
  },
  {
   "cell_type": "markdown",
   "metadata": {},
   "source": [
    "## Обучение и проверка модели"
   ]
  },
  {
   "cell_type": "markdown",
   "metadata": {},
   "source": [
    "Вызовем функцию в цикле и напечатем датафрейм"
   ]
  },
  {
   "cell_type": "code",
   "execution_count": 7,
   "metadata": {},
   "outputs": [
    {
     "data": {
      "text/html": [
       "<div>\n",
       "<style scoped>\n",
       "    .dataframe tbody tr th:only-of-type {\n",
       "        vertical-align: middle;\n",
       "    }\n",
       "\n",
       "    .dataframe tbody tr th {\n",
       "        vertical-align: top;\n",
       "    }\n",
       "\n",
       "    .dataframe thead th {\n",
       "        text-align: right;\n",
       "    }\n",
       "</style>\n",
       "<table border=\"1\" class=\"dataframe\">\n",
       "  <thead>\n",
       "    <tr style=\"text-align: right;\">\n",
       "      <th></th>\n",
       "      <th>RMSE</th>\n",
       "      <th>Cредний запас предсказанного сырья</th>\n",
       "      <th>Реальный средний запас сырья</th>\n",
       "      <th>Регион</th>\n",
       "    </tr>\n",
       "  </thead>\n",
       "  <tbody>\n",
       "    <tr>\n",
       "      <th>0</th>\n",
       "      <td>5.57</td>\n",
       "      <td>92.40</td>\n",
       "      <td>92.33</td>\n",
       "      <td>Регион_1</td>\n",
       "    </tr>\n",
       "    <tr>\n",
       "      <th>1</th>\n",
       "      <td>0.85</td>\n",
       "      <td>68.71</td>\n",
       "      <td>68.73</td>\n",
       "      <td>Регион_2</td>\n",
       "    </tr>\n",
       "    <tr>\n",
       "      <th>2</th>\n",
       "      <td>5.74</td>\n",
       "      <td>94.77</td>\n",
       "      <td>95.15</td>\n",
       "      <td>Регион_3</td>\n",
       "    </tr>\n",
       "  </tbody>\n",
       "</table>\n",
       "</div>"
      ],
      "text/plain": [
       "   RMSE  Cредний запас предсказанного сырья  Реальный средний запас сырья  \\\n",
       "0  5.57                               92.40                         92.33   \n",
       "1  0.85                               68.71                         68.73   \n",
       "2  5.74                               94.77                         95.15   \n",
       "\n",
       "     Регион  \n",
       "0  Регион_1  \n",
       "1  Регион_2  \n",
       "2  Регион_3  "
      ]
     },
     "execution_count": 7,
     "metadata": {},
     "output_type": "execute_result"
    }
   ],
   "source": [
    "all_data = []\n",
    "for geo_data, name in dfs:\n",
    "    data, saved_table = preprocessing(geo_data)\n",
    "    data['Регион'] = name\n",
    "    all_data.append(data)\n",
    "    \n",
    "combined_data = pd.concat(all_data, ignore_index=True)\n",
    "combined_data.rename(columns={'СЗПС': 'Cредний запас предсказанного сырья'})"
   ]
  },
  {
   "cell_type": "code",
   "execution_count": 8,
   "metadata": {},
   "outputs": [
    {
     "data": {
      "image/png": "[encoded data removed]",
      "text/plain": [
       "<Figure size 1080x360 with 2 Axes>"
      ]
     },
     "metadata": {
      "needs_background": "light"
     },
     "output_type": "display_data"
    }
   ],
   "source": [
    "fig, axes = plt.subplots(1, 2, figsize=(15, 5))\n",
    "axes=axes.flatten()\n",
    "\n",
    "axes[0].bar(combined_data['Регион'], combined_data['СЗПС'], color=['green', 'blue', 'orange'])\n",
    "axes[0].set_ylabel('СЗПС')\n",
    "axes[0].set_title('Диаграмма по параметру СЗПС')\n",
    "\n",
    "axes[1].bar(combined_data['Регион'], combined_data['RMSE'], color=['green', 'blue', 'orange'])\n",
    "axes[1].set_ylabel('RMSE')\n",
    "axes[1].set_title('RMSE/Регион');\n"
   ]
  },
  {
   "cell_type": "markdown",
   "metadata": {},
   "source": [
    "По данным предсказаний можно сделать следующие **выводы**:\n",
    "\n",
    "1. Средний запас сырья для 1 и 3 региона наибольший, более 90 тыс. баррелей\n",
    "2. Для 1 и 3 региона выявлена высокая RMSE, метрика, которая измеряет среднеквадратичную ошибку между предсказанными значениями модели и фактическими значениями из данных. "
   ]
  },
  {
   "cell_type": "markdown",
   "metadata": {},
   "source": [
    "## Подготовка к расчёту прибыли"
   ]
  },
  {
   "cell_type": "markdown",
   "metadata": {},
   "source": [
    "Введем константы, использование констант позволит значительно не менять код при изменении входных условий:\n",
    "\n",
    "* ALL_POINTS = 500 Точки для Бутстрепинга\n",
    "* BEST_POINTS = 200 200 лучших точек для разработки\n",
    "* ALL_MONEY = 10000000000 бюджет разработки\n",
    "* MONEY = 450000 стоимость барреля\n",
    "* BOOTSTRAP = 1000 число создаваемых выборок"
   ]
  },
  {
   "cell_type": "code",
   "execution_count": 9,
   "metadata": {},
   "outputs": [],
   "source": [
    "ALL_POINTS = 500\n",
    "BEST_POINTS = 200\n",
    "ALL_MONEY = 10_000_000_000\n",
    "MONEY = 450000\n",
    "BOOTSTRAP = 1000"
   ]
  },
  {
   "cell_type": "markdown",
   "metadata": {},
   "source": [
    "Рассчитаем уровень неубыточности (по количеству баррелей) на регион, он рассчитавыется как частное бюджета и количества денег по продаже с 1 барреля. Т.к. бюджет ограничен, а мы должны выбрать 200 скважин из 500, то делим полученное значение на количество лучших скважин, таким образом скважина должна давать то число баррелей минимум, которое получится при 2 расчете."
   ]
  },
  {
   "cell_type": "code",
   "execution_count": 12,
   "metadata": {},
   "outputs": [
    {
     "name": "stdout",
     "output_type": "stream",
     "text": [
      "\u001b[1mУровень неубыточности: 22222.22 баррелей на каждый регион.\n",
      "\u001b[0m\n",
      "\u001b[1mОбъем нефти в скважине: 111.11 баррелей в средней скважине на каждый регион.\n",
      "\u001b[0m\n"
     ]
    }
   ],
   "source": [
    "print(color.BOLD + f\"Уровень неубыточности: {round(ALL_MONEY/MONEY, 2)} баррелей на каждый регион.\\n\" + color.END)\n",
    "print(color.BOLD + f\"Объем нефти в скважине: {round(ALL_MONEY/MONEY/BEST_POINTS, 2)} \\\n",
    "баррелей в средней скважине на каждый регион.\\n\" + color.END)"
   ]
  },
  {
   "cell_type": "markdown",
   "metadata": {},
   "source": [
    "Графически изорбразим средний предсказанный запас по регионам и уровень среднего объема нефти в скважине, при котором все предприятие неубыточно."
   ]
  },
  {
   "cell_type": "code",
   "execution_count": 13,
   "metadata": {},
   "outputs": [
    {
     "data": {
      "image/png": "[encoded data removed]",
      "text/plain": [
       "<Figure size 1080x360 with 2 Axes>"
      ]
     },
     "metadata": {
      "needs_background": "light"
     },
     "output_type": "display_data"
    }
   ],
   "source": [
    "fig, ax = plt.subplots(1, 2, figsize=(15, 5))  \n",
    "\n",
    "ax[0].bar(combined_data['Регион'], combined_data['СЗПС'], color=['green', 'blue', 'orange'])\n",
    "ax[0].set_ylabel('СЗПС')\n",
    "ax[0].set_title('Диаграмма по параметру СЗПС, уровень рентабельности')\n",
    "ax[0].axhline(y=111, color='r', linestyle='--')\n",
    "ax[0].text(x=0, y=111, s='Уровень 111 тыс.бар.', color='r', va='bottom', ha='left')\n",
    "\n",
    "ax[1].bar(combined_data['Регион'], combined_data['Реальный средний запас сырья'], color=['green', 'blue', 'orange'])\n",
    "ax[1].set_ylabel('Реальный средний уровень')\n",
    "ax[1].set_title('Диаграмма по параметру реального запаса, уровень рентабельности')\n",
    "ax[1].axhline(y=111, color='r', linestyle='--')\n",
    "ax[1].text(x=0, y=111, s='Уровень 111 тыс.бар.', color='r', va='bottom', ha='left')\n",
    "\n",
    "plt.show()\n"
   ]
  },
  {
   "cell_type": "markdown",
   "metadata": {},
   "source": [
    "Уровень неубыточности бизнеса: 22222.22 баррелей на каждый регион.\n",
    "\n",
    "Объем нефти в скважине: 111.11 баррелей на каждый регион.\n",
    "\n",
    "Промежуточный вывод: Ни по предсказанному, ни по реальному уровню скважины не дотягивают до уровня безубыточности\n",
    "\n",
    "Вывод: Запас нефти в регионах недостаточен, в случае, если мы будем разрабатывать все скважины. Поэтому, необходимо выбрать 200 лучших, а в остальные не вкладываться.\n",
    "\n"
   ]
  },
  {
   "cell_type": "markdown",
   "metadata": {},
   "source": [
    "## Расчёт прибыли "
   ]
  },
  {
   "cell_type": "code",
   "execution_count": null,
   "metadata": {},
   "outputs": [],
   "source": [
    "def sum_of_actual(geo_data):\n",
    "    _, saved_table = preprocessing(geo_data)\n",
    "    saved_table = saved_table.sort_values(by='Predicted', ascending=False).head(BEST_POINTS)\n",
    "    return saved_table['Actual'].sum()\n",
    "\n",
    "results_0 = sum_of_actual(geo_data_0)\n",
    "results_1 = sum_of_actual(geo_data_1)\n",
    "results_2 = sum_of_actual(geo_data_2)"
   ]
  },
  {
   "cell_type": "markdown",
   "metadata": {},
   "source": [
    "Расчет прибыли производится по следующей формуле: \n",
    "\n",
    "```(Запас * стоимость барреля) - Затраты на разработку```"
   ]
  },
  {
   "cell_type": "code",
   "execution_count": null,
   "metadata": {},
   "outputs": [],
   "source": [
    "table_of_profits = pd.DataFrame({\n",
    "        'Регион': ['Регион_1', 'Регион_2', 'Регион_3'],\n",
    "        'Сумма средних запасов лучших 200 скважин в каждом регионе (бар.)': \\\n",
    "    [results_0.round(2), results_1.round(2), results_2.round(2)],\n",
    "    'Прибыль региона (млрд руб.)': \\\n",
    "    [(results_0.round(2)*MONEY - ALL_MONEY) / 1e9, (results_1.round(2)*MONEY - ALL_MONEY) / 1e9,\\\n",
    "     (results_2.round(2)*MONEY - ALL_MONEY) / 1e9]\n",
    "})\n",
    "\n",
    "table_of_profits['Прибыль региона (млрд руб.)'] = table_of_profits['Прибыль региона (млрд руб.)'].round(2)\n",
    "\n",
    "display(table_of_profits)\n",
    "\n",
    "plt.figure(figsize=(15, 6))\n",
    "plt.bar(table_of_profits['Регион'], table_of_profits['Прибыль региона (млрд руб.)'], color=['green', 'blue', 'orange'])\n",
    "plt.title('Столбчатая диаграмма по прибыли регионов')\n",
    "plt.ylabel('Прибыль, млрд.руб.')\n",
    "plt.xticks(rotation=45)\n",
    "plt.show()"
   ]
  },
  {
   "cell_type": "markdown",
   "metadata": {},
   "source": [
    "Вывод:\n",
    "Отрицательной прибыли не наблюдается ни по одному региону, необходимо рассчитать риски вложений, чтобы выбрать наиболее выгодный регион."
   ]
  },
  {
   "cell_type": "markdown",
   "metadata": {},
   "source": [
    "## Расчёт рисков"
   ]
  },
  {
   "cell_type": "markdown",
   "metadata": {},
   "source": [
    "Выведем в переменных сохраненные таблицы предсказаний и реальных значений"
   ]
  },
  {
   "cell_type": "code",
   "execution_count": null,
   "metadata": {},
   "outputs": [],
   "source": [
    "_, results_0 = preprocessing(geo_data_0)\n",
    "_, results_1 = preprocessing(geo_data_1)\n",
    "_, results_2 = preprocessing(geo_data_2)"
   ]
  },
  {
   "cell_type": "markdown",
   "metadata": {},
   "source": [
    "Пример"
   ]
  },
  {
   "cell_type": "code",
   "execution_count": null,
   "metadata": {},
   "outputs": [],
   "source": [
    "results_0.head()"
   ]
  },
  {
   "cell_type": "code",
   "execution_count": null,
   "metadata": {},
   "outputs": [],
   "source": [
    "state = np.random.RandomState(12345)\n",
    "profit_data = []\n",
    "dfs = [(results_0, 'Регион_1'), (results_1, 'Регион_2'), (results_2, 'Регион_3')]\n",
    "for results, name in dfs:\n",
    "    profit = []\n",
    "    for i in range(BOOTSTRAP):\n",
    "        data = results.sample(ALL_POINTS, replace=True, random_state=state)\n",
    "        data['Profit'] = data['Actual'] * MONEY\n",
    "        data = data.sort_values(by='Predicted', ascending=False).head(BEST_POINTS)\n",
    "        profit.append(data['Profit'].sum() - ALL_MONEY)\n",
    "    profit_series = pd.Series(profit)\n",
    "    mean_profit = round(profit_series.mean() / 1e6, 2)\n",
    "    confidence_interval = f\"{round(profit_series.quantile(0.025) / 1e7, 2)} ... {round(profit_series.quantile(0.975) / 1e7, 2)}\"\n",
    "    risks = round((profit_series < 0).mean() * 100, 2)\n",
    "\n",
    "    profit_data.append({\n",
    "        'Регион': name,\n",
    "        'Средняя прибыль, млн.руб.': mean_profit,\n",
    "        'Доверительный интервал, млн.руб': confidence_interval,\n",
    "        'Риски (%)': risks\n",
    "    })\n",
    "\n",
    "results_df = pd.DataFrame(profit_data)\n",
    "results_df.head(5)"
   ]
  },
  {
   "cell_type": "code",
   "execution_count": null,
   "metadata": {},
   "outputs": [],
   "source": [
    "plt.figure(figsize=(15, 6))\n",
    "plt.bar(results_df['Регион'], results_df['Риски (%)'], color=['green', 'blue', 'orange'])\n",
    "plt.title('Столбчатая диаграмма \"Риски разработки в различных регионах\"')\n",
    "plt.ylabel('Риск, %')\n",
    "plt.show()"
   ]
  },
  {
   "cell_type": "markdown",
   "metadata": {},
   "source": [
    "Вывод:\n",
    "\n",
    "0. Для расчета рисков в регионе применен метод Бутстрепинга, который имеет ряд преимуществ:\n",
    "   1. Простота реализации: метод легко использовать и требует минимальных вычислений.\n",
    "   2. Оценка неопределенности: позволяет оценить доверительные интервалы и стандартные ошибки.\n",
    "   3. Гибкость: применим к различным статистическим задачам и распределениям.\n",
    "   4. Не требует предположений о нормальности: подходит для данных с неизвестным распределением.\n",
    "   5. Возможность работы с малыми выборками: эффективно использует доступные данные.\n",
    "   \n",
    "1. Наименьший риск разработки во 2 Регионе, только во 2 регионе риск менее 2.5 процентов\n",
    "2. Доверительный интервал прибыли в этом регионе положительный - регион безубыточен.\n",
    "3. Запасы в регионе 2 были наименьшими, несмотря на это, регион 2 наименее рискованный.\n"
   ]
  },
  {
   "cell_type": "markdown",
   "metadata": {},
   "source": [
    "## Общие выводы"
   ]
  },
  {
   "cell_type": "markdown",
   "metadata": {},
   "source": [
    "**Математическое моделирование позволило сделать выводы об потенциальной доходности региона разработки скважин №2, на первый взгляд покритериям средних значений запасов и прибыли регион не так привлекателен, как регионы 1 и 3, однако по параметру рисков регион 2 благоприятен (менее 2.5 процентов), поэтому для разработки рекомендуется именно он.**\n",
    "\n",
    "В ходе работы на разных этапах были сделаты следуюие выводы:\n",
    "\n",
    "**О данных:**\n",
    "\n",
    "1. Названия колонок таблицы в порядке\n",
    "2. Типы данных отвечают техническому заданию\n",
    "3. Пропусков нет\n",
    "4. Явных дубликатов нет\n",
    "5. Таблицы по трем регионам имеют сходный размер (100000 строк)\n",
    "\n",
    "**О типах распределений параметров:**\n",
    "\n",
    "1. geo_data_0: \n",
    "    1. Параметр f0 мультимодальное распределение вблизи 0\n",
    "    2. Параметр f1 мультимодальное распределение вблизи 0\n",
    "    3. Параметр f2 нормальное распределение\n",
    "    4. Парамер product распределен нормально\n",
    "2. geo_data_1:\n",
    "    1. Параметр f0 бимодальное распределение\n",
    "    2. Параметр f1 нормальное распределение\n",
    "    3. Параметр f2 мультимодальное распледеление в диапазоне 0-5\n",
    "    4. Парамер product имеет значительные выбросы\n",
    "3. geo_data_2:\n",
    "    1. Параметр f0 нормальное распределение\n",
    "    2. Параметр f1 нормальное распределение\n",
    "    3. Параметр f2 нормальное распределение\n",
    "    4. Парамер product распределен нормально\n",
    "    \n",
    "Из-за разных типов распределений стандартные статистические критерии могут не работать.\n",
    "\n",
    "В целом из-за сходных значений не обязательно применять масштабирование, также его не нужно применять из-за ненужности для требуемой модели Линейной Регрессии.\n",
    "\n",
    "**О запасах сырья в регионах:**\n",
    "\n",
    "1. Средний запас сырья для 1 и 3 региона наибольший, более 90 тыс. баррелей\n",
    "2. Для 1 и 3 региона выявлена высокая RMSE, метрика, которая измеряет среднеквадратичную ошибку между предсказанными значениями модели и фактическими значениями из данных. \n",
    "\n",
    "**О убыточности, достаточности запасов нефти:**\n",
    "\n",
    "1. Уровень неубыточности бизнеса: 22222.22 баррелей на каждый регион.\n",
    "2. Объем нефти в скважине: 111.11 баррелей на каждый регион.\n",
    "3. Ни по предсказанному, ни по реальному уровню скважины не дотягивают до уровня безубыточности"
   ]
  },
  {
   "cell_type": "markdown",
   "metadata": {},
   "source": [
    "\n",
    "<div class=\"alert alert-block alert-success\">\n",
    "<b>Успех:</b> Отлично, проведено детальное исследование и был выбран правильный регион!\n",
    "</div>\n",
    "\n",
    "\n",
    "\n",
    "<div class=\"alert alert-block alert-info\">\n",
    "<b>Совет: </b> Если интересно изучить тему бутстрапа глубже - я оставлю  ниже несколько интересных и полезных ссылок по теме:\n",
    "        \n",
    "1. \"Bootstrap Hypothesis Testing in Statistics with Example\" \n",
    "        \n",
    "https://www.youtube.com/watch?v=9STZ7MxkNVg\n",
    "        \n",
    "2. \"How to Calculate Bootstrap Confidence Intervals For Machine Learning Results in Python\" \n",
    "        \n",
    "https://machinelearningmastery.com/calculate-bootstrap-confidence-intervals-machine-learning-results-python/\n",
    "        \n",
    "3. \"A Gentle Introduction to the Bootstrap Method\" \n",
    "\n",
    "https://machinelearningmastery.com/a-gentle-introduction-to-the-bootstrap-method/\n",
    "        \n",
    "4. \"An Introduction to the Bootstrap Method\" \n",
    "        \n",
    "https://towardsdatascience.com/an-introduction-to-the-bootstrap-method-58bcb51b4d60#:~:text=The%20basic%20idea%20of%20bootstrap,population%20mean)%20on%20sample%20data.&amp;text=A%20sample%20from%20population%20with%20sample%20size%20n\n",
    "        \n",
    "5. \"Bootstrapping and Resampling in Statistics with Example\" \n",
    "        \n",
    "        \n",
    "https://www.youtube.com/watch?v=O_Fj4q8lgmc\n",
    "\n",
    "6. Также одна из программ на рынке по этой теме управлненеческого моделирования - AnyLogic - интересный продукт. Можешь видео из интернета посмотреть по какому-нибудь примеру с её использованием. Тогда тема управленческого моделирования и бутстрапа может по-другому лечь.\n",
    "</div>\n",
    "\n"
   ]
  }
 ],
 "metadata": {
  "ExecuteTimeLog": [
   {
    "duration": 405,
    "start_time": "2024-09-18T09:36:48.868Z"
   },
   {
    "duration": 627,
    "start_time": "2024-09-18T09:37:20.683Z"
   },
   {
    "duration": 1224,
    "start_time": "2024-09-18T09:37:39.468Z"
   },
   {
    "duration": 432,
    "start_time": "2024-09-18T09:38:03.020Z"
   },
   {
    "duration": 425,
    "start_time": "2024-09-18T09:38:27.806Z"
   },
   {
    "duration": 468,
    "start_time": "2024-09-18T09:38:32.982Z"
   },
   {
    "duration": 431,
    "start_time": "2024-09-18T09:38:37.779Z"
   },
   {
    "duration": 403,
    "start_time": "2024-09-18T09:38:42.979Z"
   },
   {
    "duration": 428,
    "start_time": "2024-09-18T09:43:12.259Z"
   },
   {
    "duration": 406,
    "start_time": "2024-09-18T09:44:29.571Z"
   },
   {
    "duration": 78,
    "start_time": "2024-09-18T09:45:44.275Z"
   },
   {
    "duration": 65,
    "start_time": "2024-09-18T09:49:59.339Z"
   },
   {
    "duration": 84,
    "start_time": "2024-09-18T09:50:03.915Z"
   },
   {
    "duration": 78,
    "start_time": "2024-09-18T09:51:44.348Z"
   },
   {
    "duration": 82,
    "start_time": "2024-09-18T09:52:13.330Z"
   },
   {
    "duration": 92,
    "start_time": "2024-09-18T09:52:19.765Z"
   },
   {
    "duration": 210,
    "start_time": "2024-09-18T09:53:41.675Z"
   },
   {
    "duration": 207,
    "start_time": "2024-09-18T09:53:58.355Z"
   },
   {
    "duration": 1200,
    "start_time": "2024-09-18T09:55:34.195Z"
   },
   {
    "duration": 227,
    "start_time": "2024-09-18T09:56:11.290Z"
   },
   {
    "duration": 216,
    "start_time": "2024-09-18T09:57:07.618Z"
   },
   {
    "duration": 229,
    "start_time": "2024-09-18T09:57:57.964Z"
   },
   {
    "duration": 222,
    "start_time": "2024-09-18T09:58:18.346Z"
   },
   {
    "duration": 53,
    "start_time": "2024-09-18T10:03:26.817Z"
   },
   {
    "duration": 230,
    "start_time": "2024-09-18T10:03:59.938Z"
   },
   {
    "duration": 205,
    "start_time": "2024-09-18T10:04:11.562Z"
   },
   {
    "duration": 210,
    "start_time": "2024-09-18T10:05:22.218Z"
   },
   {
    "duration": 53,
    "start_time": "2024-09-18T10:11:15.881Z"
   },
   {
    "duration": 212,
    "start_time": "2024-09-18T10:11:22.112Z"
   },
   {
    "duration": 201,
    "start_time": "2024-09-18T10:11:44.369Z"
   },
   {
    "duration": 236,
    "start_time": "2024-09-18T10:12:02.679Z"
   },
   {
    "duration": 193,
    "start_time": "2024-09-18T10:12:11.785Z"
   },
   {
    "duration": 198,
    "start_time": "2024-09-18T10:14:02.056Z"
   },
   {
    "duration": 256,
    "start_time": "2024-09-18T10:14:43.432Z"
   },
   {
    "duration": 244,
    "start_time": "2024-09-18T10:14:52.560Z"
   },
   {
    "duration": 248,
    "start_time": "2024-09-18T10:15:00.295Z"
   },
   {
    "duration": 336,
    "start_time": "2024-09-18T10:20:58.343Z"
   },
   {
    "duration": 231,
    "start_time": "2024-09-18T10:21:05.879Z"
   },
   {
    "duration": 249,
    "start_time": "2024-09-18T10:22:11.415Z"
   },
   {
    "duration": 246,
    "start_time": "2024-09-18T10:22:16.462Z"
   },
   {
    "duration": 262,
    "start_time": "2024-09-18T10:22:37.367Z"
   },
   {
    "duration": 343,
    "start_time": "2024-09-18T10:22:47.450Z"
   },
   {
    "duration": 247,
    "start_time": "2024-09-18T10:23:30.455Z"
   },
   {
    "duration": 229,
    "start_time": "2024-09-18T10:23:31.143Z"
   },
   {
    "duration": 238,
    "start_time": "2024-09-18T10:23:46.915Z"
   },
   {
    "duration": 241,
    "start_time": "2024-09-18T10:23:52.183Z"
   },
   {
    "duration": 261,
    "start_time": "2024-09-18T10:58:31.076Z"
   },
   {
    "duration": 371,
    "start_time": "2024-09-18T11:08:32.460Z"
   },
   {
    "duration": 257,
    "start_time": "2024-09-18T11:08:32.859Z"
   },
   {
    "duration": 266,
    "start_time": "2024-09-18T11:08:33.466Z"
   },
   {
    "duration": 275,
    "start_time": "2024-09-18T11:12:18.426Z"
   },
   {
    "duration": 275,
    "start_time": "2024-09-18T11:12:20.786Z"
   },
   {
    "duration": 374,
    "start_time": "2024-09-18T11:12:23.257Z"
   },
   {
    "duration": 270,
    "start_time": "2024-09-18T11:13:41.330Z"
   },
   {
    "duration": 259,
    "start_time": "2024-09-18T11:13:50.433Z"
   },
   {
    "duration": 259,
    "start_time": "2024-09-18T11:13:56.058Z"
   },
   {
    "duration": 347,
    "start_time": "2024-09-18T11:19:00.226Z"
   },
   {
    "duration": 308,
    "start_time": "2024-09-18T11:19:09.977Z"
   },
   {
    "duration": 395,
    "start_time": "2024-09-18T11:23:10.369Z"
   },
   {
    "duration": 66,
    "start_time": "2024-09-18T12:22:19.148Z"
   },
   {
    "duration": 54,
    "start_time": "2024-09-18T12:38:29.737Z"
   },
   {
    "duration": 12,
    "start_time": "2024-09-18T12:38:30.584Z"
   },
   {
    "duration": 7,
    "start_time": "2024-09-18T12:39:22.954Z"
   },
   {
    "duration": 5,
    "start_time": "2024-09-18T12:39:39.106Z"
   },
   {
    "duration": 209,
    "start_time": "2024-09-18T12:39:45.610Z"
   },
   {
    "duration": 69,
    "start_time": "2024-09-18T12:39:52.545Z"
   },
   {
    "duration": 3,
    "start_time": "2024-09-18T12:39:52.976Z"
   },
   {
    "duration": 4,
    "start_time": "2024-09-18T12:42:04.695Z"
   },
   {
    "duration": 11,
    "start_time": "2024-09-18T12:45:29.862Z"
   },
   {
    "duration": 5,
    "start_time": "2024-09-18T12:45:52.143Z"
   },
   {
    "duration": 396,
    "start_time": "2024-09-18T12:45:57.743Z"
   },
   {
    "duration": 416,
    "start_time": "2024-09-18T12:46:29.992Z"
   },
   {
    "duration": 385,
    "start_time": "2024-09-18T12:47:39.624Z"
   },
   {
    "duration": 69,
    "start_time": "2024-09-18T12:49:21.288Z"
   },
   {
    "duration": 10,
    "start_time": "2024-09-18T12:50:01.446Z"
   },
   {
    "duration": 12,
    "start_time": "2024-09-18T12:50:13.575Z"
   },
   {
    "duration": 10,
    "start_time": "2024-09-18T12:50:59.415Z"
   },
   {
    "duration": 3,
    "start_time": "2024-09-18T12:51:11.838Z"
   },
   {
    "duration": 29,
    "start_time": "2024-09-18T12:51:36.943Z"
   },
   {
    "duration": 21,
    "start_time": "2024-09-18T12:57:18.030Z"
   },
   {
    "duration": 21,
    "start_time": "2024-09-18T12:57:29.765Z"
   },
   {
    "duration": 9,
    "start_time": "2024-09-18T12:57:32.318Z"
   },
   {
    "duration": 23,
    "start_time": "2024-09-18T12:57:42.533Z"
   },
   {
    "duration": 4,
    "start_time": "2024-09-18T12:57:49.158Z"
   },
   {
    "duration": 21,
    "start_time": "2024-09-18T12:57:53.829Z"
   },
   {
    "duration": 21,
    "start_time": "2024-09-18T12:58:22.061Z"
   },
   {
    "duration": 4,
    "start_time": "2024-09-18T12:58:22.525Z"
   },
   {
    "duration": 17,
    "start_time": "2024-09-18T12:58:26.534Z"
   },
   {
    "duration": 12,
    "start_time": "2024-09-18T12:58:36.854Z"
   },
   {
    "duration": 20,
    "start_time": "2024-09-18T12:59:03.981Z"
   },
   {
    "duration": 7,
    "start_time": "2024-09-18T12:59:18.501Z"
   },
   {
    "duration": 12,
    "start_time": "2024-09-18T13:00:25.562Z"
   },
   {
    "duration": 6,
    "start_time": "2024-09-18T13:00:47.877Z"
   },
   {
    "duration": 54,
    "start_time": "2024-09-18T13:04:43.518Z"
   },
   {
    "duration": 50,
    "start_time": "2024-09-18T13:05:34.053Z"
   },
   {
    "duration": 25,
    "start_time": "2024-09-18T13:05:37.780Z"
   },
   {
    "duration": 5,
    "start_time": "2024-09-18T13:06:06.086Z"
   },
   {
    "duration": 9,
    "start_time": "2024-09-18T13:06:51.172Z"
   },
   {
    "duration": 9,
    "start_time": "2024-09-18T13:07:10.078Z"
   },
   {
    "duration": 7,
    "start_time": "2024-09-18T13:16:54.274Z"
   },
   {
    "duration": 222,
    "start_time": "2024-09-18T13:17:13.596Z"
   },
   {
    "duration": 6,
    "start_time": "2024-09-18T13:17:17.922Z"
   },
   {
    "duration": 212,
    "start_time": "2024-09-18T13:17:22.010Z"
   },
   {
    "duration": 415,
    "start_time": "2024-09-18T13:17:41.594Z"
   },
   {
    "duration": 7,
    "start_time": "2024-09-18T13:17:52.482Z"
   },
   {
    "duration": 250,
    "start_time": "2024-09-18T13:17:53.651Z"
   },
   {
    "duration": 12,
    "start_time": "2024-09-18T13:18:35.154Z"
   },
   {
    "duration": 6,
    "start_time": "2024-09-18T13:18:40.809Z"
   },
   {
    "duration": 17,
    "start_time": "2024-09-18T13:18:53.386Z"
   },
   {
    "duration": 9,
    "start_time": "2024-09-18T13:19:02.371Z"
   },
   {
    "duration": 295,
    "start_time": "2024-09-18T13:20:17.313Z"
   },
   {
    "duration": 27,
    "start_time": "2024-09-18T13:24:18.650Z"
   },
   {
    "duration": 1541,
    "start_time": "2024-09-18T13:24:25.532Z"
   },
   {
    "duration": 441,
    "start_time": "2024-09-18T13:24:27.075Z"
   },
   {
    "duration": 294,
    "start_time": "2024-09-18T13:24:27.517Z"
   },
   {
    "duration": 13,
    "start_time": "2024-09-18T13:24:27.813Z"
   },
   {
    "duration": 361,
    "start_time": "2024-09-18T13:24:27.829Z"
   },
   {
    "duration": 312,
    "start_time": "2024-09-18T13:24:28.191Z"
   },
   {
    "duration": 326,
    "start_time": "2024-09-18T13:24:28.504Z"
   },
   {
    "duration": 399,
    "start_time": "2024-09-18T13:24:28.831Z"
   },
   {
    "duration": 134,
    "start_time": "2024-09-18T13:24:29.231Z"
   },
   {
    "duration": 0,
    "start_time": "2024-09-18T13:24:29.367Z"
   },
   {
    "duration": 0,
    "start_time": "2024-09-18T13:24:29.370Z"
   },
   {
    "duration": 0,
    "start_time": "2024-09-18T13:24:29.372Z"
   },
   {
    "duration": 1449,
    "start_time": "2024-09-18T13:25:50.604Z"
   },
   {
    "duration": 446,
    "start_time": "2024-09-18T13:25:52.069Z"
   },
   {
    "duration": 279,
    "start_time": "2024-09-18T13:25:52.517Z"
   },
   {
    "duration": 14,
    "start_time": "2024-09-18T13:25:52.798Z"
   },
   {
    "duration": 359,
    "start_time": "2024-09-18T13:25:52.815Z"
   },
   {
    "duration": 300,
    "start_time": "2024-09-18T13:25:53.176Z"
   },
   {
    "duration": 399,
    "start_time": "2024-09-18T13:25:53.478Z"
   },
   {
    "duration": 399,
    "start_time": "2024-09-18T13:25:53.879Z"
   },
   {
    "duration": 49,
    "start_time": "2024-09-18T13:25:54.280Z"
   },
   {
    "duration": 0,
    "start_time": "2024-09-18T13:25:54.330Z"
   },
   {
    "duration": 0,
    "start_time": "2024-09-18T13:25:54.331Z"
   },
   {
    "duration": 0,
    "start_time": "2024-09-18T13:25:54.332Z"
   },
   {
    "duration": 1601,
    "start_time": "2024-09-20T10:38:15.073Z"
   },
   {
    "duration": 1797,
    "start_time": "2024-09-20T10:38:16.676Z"
   },
   {
    "duration": 247,
    "start_time": "2024-09-20T10:38:18.475Z"
   },
   {
    "duration": 12,
    "start_time": "2024-09-20T10:38:18.724Z"
   },
   {
    "duration": 285,
    "start_time": "2024-09-20T10:38:19.129Z"
   },
   {
    "duration": 260,
    "start_time": "2024-09-20T10:38:19.624Z"
   },
   {
    "duration": 266,
    "start_time": "2024-09-20T10:38:20.071Z"
   },
   {
    "duration": 356,
    "start_time": "2024-09-20T10:38:20.624Z"
   },
   {
    "duration": 4,
    "start_time": "2024-09-20T10:38:22.767Z"
   },
   {
    "duration": 4,
    "start_time": "2024-09-20T10:38:27.983Z"
   },
   {
    "duration": 129,
    "start_time": "2024-09-20T10:38:51.402Z"
   },
   {
    "duration": 5,
    "start_time": "2024-09-20T10:39:07.873Z"
   },
   {
    "duration": 428,
    "start_time": "2024-09-20T10:39:09.528Z"
   },
   {
    "duration": 221,
    "start_time": "2024-09-20T10:39:12.993Z"
   },
   {
    "duration": 270,
    "start_time": "2024-09-20T10:39:17.615Z"
   },
   {
    "duration": 273,
    "start_time": "2024-09-20T10:39:19.120Z"
   },
   {
    "duration": 266,
    "start_time": "2024-09-20T10:39:20.672Z"
   },
   {
    "duration": 276,
    "start_time": "2024-09-20T10:39:24.439Z"
   },
   {
    "duration": 207,
    "start_time": "2024-09-20T10:39:27.912Z"
   },
   {
    "duration": 29,
    "start_time": "2024-09-20T10:39:45.176Z"
   },
   {
    "duration": 29,
    "start_time": "2024-09-20T10:40:08.751Z"
   },
   {
    "duration": 32,
    "start_time": "2024-09-20T10:40:28.271Z"
   },
   {
    "duration": 32,
    "start_time": "2024-09-20T10:41:23.175Z"
   },
   {
    "duration": 30,
    "start_time": "2024-09-20T10:41:30.286Z"
   },
   {
    "duration": 31,
    "start_time": "2024-09-20T10:42:01.567Z"
   },
   {
    "duration": 28,
    "start_time": "2024-09-20T10:42:03.071Z"
   },
   {
    "duration": 28,
    "start_time": "2024-09-20T10:42:04.056Z"
   },
   {
    "duration": 62,
    "start_time": "2024-09-20T10:42:15.959Z"
   },
   {
    "duration": 126,
    "start_time": "2024-09-20T10:42:21.791Z"
   },
   {
    "duration": 29,
    "start_time": "2024-09-20T10:42:27.654Z"
   },
   {
    "duration": 115,
    "start_time": "2024-09-20T10:47:55.799Z"
   },
   {
    "duration": 429,
    "start_time": "2024-09-20T10:48:10.095Z"
   },
   {
    "duration": 359,
    "start_time": "2024-09-20T10:48:16.271Z"
   },
   {
    "duration": 179,
    "start_time": "2024-09-20T10:48:51.837Z"
   },
   {
    "duration": 31,
    "start_time": "2024-09-20T10:49:05.623Z"
   },
   {
    "duration": 374,
    "start_time": "2024-09-20T10:49:19.646Z"
   },
   {
    "duration": 48,
    "start_time": "2024-09-20T10:51:31.167Z"
   },
   {
    "duration": 27,
    "start_time": "2024-09-20T10:52:05.558Z"
   },
   {
    "duration": 222,
    "start_time": "2024-09-20T10:52:10.999Z"
   },
   {
    "duration": 383,
    "start_time": "2024-09-20T10:52:24.639Z"
   },
   {
    "duration": 421,
    "start_time": "2024-09-20T10:52:45.510Z"
   },
   {
    "duration": 440,
    "start_time": "2024-09-20T10:56:05.582Z"
   },
   {
    "duration": 426,
    "start_time": "2024-09-20T10:56:12.598Z"
   },
   {
    "duration": 415,
    "start_time": "2024-09-20T10:56:23.007Z"
   },
   {
    "duration": 4,
    "start_time": "2024-09-20T10:56:48.957Z"
   },
   {
    "duration": 74,
    "start_time": "2024-09-20T10:59:54.749Z"
   },
   {
    "duration": 111,
    "start_time": "2024-09-20T11:00:20.004Z"
   },
   {
    "duration": 45,
    "start_time": "2024-09-20T11:05:19.773Z"
   },
   {
    "duration": 99,
    "start_time": "2024-09-20T11:05:30.117Z"
   },
   {
    "duration": 54,
    "start_time": "2024-09-20T11:05:35.662Z"
   },
   {
    "duration": 29,
    "start_time": "2024-09-20T11:07:25.005Z"
   },
   {
    "duration": 446,
    "start_time": "2024-09-20T11:08:45.276Z"
   },
   {
    "duration": 367,
    "start_time": "2024-09-20T11:10:25.764Z"
   },
   {
    "duration": 4,
    "start_time": "2024-09-20T11:10:34.101Z"
   },
   {
    "duration": 392,
    "start_time": "2024-09-20T11:10:35.836Z"
   },
   {
    "duration": 348,
    "start_time": "2024-09-20T11:11:00.581Z"
   },
   {
    "duration": 419,
    "start_time": "2024-09-20T11:11:08.308Z"
   },
   {
    "duration": 417,
    "start_time": "2024-09-20T11:11:22.108Z"
   },
   {
    "duration": 405,
    "start_time": "2024-09-20T11:11:52.723Z"
   },
   {
    "duration": 447,
    "start_time": "2024-09-20T11:13:29.667Z"
   },
   {
    "duration": 436,
    "start_time": "2024-09-20T11:13:55.491Z"
   },
   {
    "duration": 442,
    "start_time": "2024-09-20T11:14:14.788Z"
   },
   {
    "duration": 373,
    "start_time": "2024-09-20T11:14:32.459Z"
   },
   {
    "duration": 5,
    "start_time": "2024-09-20T11:15:15.667Z"
   },
   {
    "duration": 426,
    "start_time": "2024-09-20T11:15:18.003Z"
   },
   {
    "duration": 5,
    "start_time": "2024-09-20T11:15:44.916Z"
   },
   {
    "duration": 378,
    "start_time": "2024-09-20T11:15:45.348Z"
   },
   {
    "duration": 519,
    "start_time": "2024-09-20T11:16:16.195Z"
   },
   {
    "duration": 497,
    "start_time": "2024-09-20T11:16:32.219Z"
   },
   {
    "duration": 674,
    "start_time": "2024-09-20T11:18:17.859Z"
   },
   {
    "duration": 1397,
    "start_time": "2024-09-20T11:18:43.722Z"
   },
   {
    "duration": 1334,
    "start_time": "2024-09-20T11:18:55.025Z"
   },
   {
    "duration": 753,
    "start_time": "2024-09-20T11:19:05.074Z"
   },
   {
    "duration": 1386,
    "start_time": "2024-09-20T11:20:00.586Z"
   },
   {
    "duration": 1365,
    "start_time": "2024-09-20T11:20:28.033Z"
   },
   {
    "duration": 4,
    "start_time": "2024-09-20T11:20:35.393Z"
   },
   {
    "duration": 630,
    "start_time": "2024-09-20T11:20:35.984Z"
   },
   {
    "duration": 483,
    "start_time": "2024-09-20T11:20:59.033Z"
   },
   {
    "duration": 102,
    "start_time": "2024-09-20T11:21:20.729Z"
   },
   {
    "duration": 296,
    "start_time": "2024-09-20T11:22:21.048Z"
   },
   {
    "duration": 1129,
    "start_time": "2024-09-20T11:22:56.537Z"
   },
   {
    "duration": 1208,
    "start_time": "2024-09-20T11:23:14.319Z"
   },
   {
    "duration": 394,
    "start_time": "2024-09-20T11:23:26.425Z"
   },
   {
    "duration": 178,
    "start_time": "2024-09-20T11:23:36.200Z"
   },
   {
    "duration": 181,
    "start_time": "2024-09-20T11:23:43.488Z"
   },
   {
    "duration": 187,
    "start_time": "2024-09-20T11:24:12.440Z"
   },
   {
    "duration": 186,
    "start_time": "2024-09-20T11:24:18.577Z"
   },
   {
    "duration": 362,
    "start_time": "2024-09-20T11:24:45.360Z"
   },
   {
    "duration": 170,
    "start_time": "2024-09-20T11:25:01.583Z"
   },
   {
    "duration": 182,
    "start_time": "2024-09-20T11:25:07.951Z"
   },
   {
    "duration": 191,
    "start_time": "2024-09-20T11:25:12.560Z"
   },
   {
    "duration": 217,
    "start_time": "2024-09-20T11:25:22.704Z"
   },
   {
    "duration": 193,
    "start_time": "2024-09-20T11:25:43.703Z"
   },
   {
    "duration": 326,
    "start_time": "2024-09-20T11:25:57.055Z"
   },
   {
    "duration": 191,
    "start_time": "2024-09-20T11:26:14.782Z"
   },
   {
    "duration": 191,
    "start_time": "2024-09-20T11:26:27.103Z"
   },
   {
    "duration": 395,
    "start_time": "2024-09-20T11:27:35.436Z"
   },
   {
    "duration": 54,
    "start_time": "2024-09-20T11:27:41.637Z"
   },
   {
    "duration": 456,
    "start_time": "2024-09-20T11:27:51.158Z"
   },
   {
    "duration": 961,
    "start_time": "2024-09-20T11:31:58.359Z"
   },
   {
    "duration": 945,
    "start_time": "2024-09-20T11:32:09.741Z"
   },
   {
    "duration": 917,
    "start_time": "2024-09-20T11:32:19.813Z"
   },
   {
    "duration": 269,
    "start_time": "2024-09-20T11:32:30.772Z"
   },
   {
    "duration": 206,
    "start_time": "2024-09-20T11:36:02.436Z"
   },
   {
    "duration": 192,
    "start_time": "2024-09-20T11:37:33.204Z"
   },
   {
    "duration": 407,
    "start_time": "2024-09-20T11:43:01.614Z"
   },
   {
    "duration": 201,
    "start_time": "2024-09-20T11:43:05.131Z"
   },
   {
    "duration": 184,
    "start_time": "2024-09-20T11:43:13.707Z"
   },
   {
    "duration": 48,
    "start_time": "2024-09-20T11:44:31.714Z"
   },
   {
    "duration": 555,
    "start_time": "2024-09-20T11:44:39.660Z"
   },
   {
    "duration": 501,
    "start_time": "2024-09-20T11:44:47.515Z"
   },
   {
    "duration": 522,
    "start_time": "2024-09-20T11:45:35.396Z"
   },
   {
    "duration": 361,
    "start_time": "2024-09-20T11:46:14.068Z"
   },
   {
    "duration": 520,
    "start_time": "2024-09-20T11:46:21.595Z"
   },
   {
    "duration": 506,
    "start_time": "2024-09-20T11:46:33.210Z"
   },
   {
    "duration": 178,
    "start_time": "2024-09-20T11:46:41.666Z"
   },
   {
    "duration": 4,
    "start_time": "2024-09-20T11:53:57.473Z"
   },
   {
    "duration": 487,
    "start_time": "2024-09-20T11:53:59.135Z"
   },
   {
    "duration": 22,
    "start_time": "2024-09-20T11:55:16.025Z"
   },
   {
    "duration": 6,
    "start_time": "2024-09-20T11:55:25.190Z"
   },
   {
    "duration": 421,
    "start_time": "2024-09-20T11:55:28.030Z"
   },
   {
    "duration": 335,
    "start_time": "2024-09-20T11:55:30.887Z"
   },
   {
    "duration": 265,
    "start_time": "2024-09-20T11:55:39.559Z"
   },
   {
    "duration": 264,
    "start_time": "2024-09-20T11:55:40.935Z"
   },
   {
    "duration": 274,
    "start_time": "2024-09-20T11:55:41.568Z"
   },
   {
    "duration": 296,
    "start_time": "2024-09-20T11:55:42.623Z"
   },
   {
    "duration": 28,
    "start_time": "2024-09-20T11:55:47.334Z"
   },
   {
    "duration": 13,
    "start_time": "2024-09-20T11:56:21.049Z"
   },
   {
    "duration": 5,
    "start_time": "2024-09-20T11:56:27.543Z"
   },
   {
    "duration": 485,
    "start_time": "2024-09-20T11:56:30.231Z"
   },
   {
    "duration": 413,
    "start_time": "2024-09-20T11:57:02.175Z"
   },
   {
    "duration": 200,
    "start_time": "2024-09-20T11:57:04.065Z"
   },
   {
    "duration": 5,
    "start_time": "2024-09-20T11:57:09.599Z"
   },
   {
    "duration": 408,
    "start_time": "2024-09-20T11:57:10.808Z"
   },
   {
    "duration": 179,
    "start_time": "2024-09-20T11:57:13.079Z"
   },
   {
    "duration": 11,
    "start_time": "2024-09-20T12:29:30.255Z"
   },
   {
    "duration": 3,
    "start_time": "2024-09-20T12:29:36.015Z"
   },
   {
    "duration": 3,
    "start_time": "2024-09-20T12:29:36.655Z"
   },
   {
    "duration": 9,
    "start_time": "2024-09-20T12:29:50.535Z"
   },
   {
    "duration": 9,
    "start_time": "2024-09-20T12:30:02.800Z"
   },
   {
    "duration": 3,
    "start_time": "2024-09-20T12:30:16.704Z"
   },
   {
    "duration": 4,
    "start_time": "2024-09-20T12:30:38.607Z"
   },
   {
    "duration": 4,
    "start_time": "2024-09-20T12:30:55.982Z"
   },
   {
    "duration": 4,
    "start_time": "2024-09-20T12:31:02.447Z"
   },
   {
    "duration": 4,
    "start_time": "2024-09-20T12:31:23.423Z"
   },
   {
    "duration": 3,
    "start_time": "2024-09-20T12:31:51.635Z"
   },
   {
    "duration": 3,
    "start_time": "2024-09-20T12:37:28.727Z"
   },
   {
    "duration": 311,
    "start_time": "2024-09-20T12:38:59.630Z"
   },
   {
    "duration": 218,
    "start_time": "2024-09-20T12:39:34.845Z"
   },
   {
    "duration": 125,
    "start_time": "2024-09-20T12:41:07.726Z"
   },
   {
    "duration": 373,
    "start_time": "2024-09-20T12:41:20.789Z"
   },
   {
    "duration": 214,
    "start_time": "2024-09-20T12:42:33.757Z"
   },
   {
    "duration": 255,
    "start_time": "2024-09-20T12:42:49.765Z"
   },
   {
    "duration": 253,
    "start_time": "2024-09-20T12:44:17.326Z"
   },
   {
    "duration": 4,
    "start_time": "2024-09-20T12:47:55.635Z"
   },
   {
    "duration": 196,
    "start_time": "2024-09-20T12:48:25.179Z"
   },
   {
    "duration": 198,
    "start_time": "2024-09-20T12:48:46.267Z"
   },
   {
    "duration": 240,
    "start_time": "2024-09-20T12:49:03.212Z"
   },
   {
    "duration": 197,
    "start_time": "2024-09-20T12:49:28.772Z"
   },
   {
    "duration": 4,
    "start_time": "2024-09-20T12:50:03.851Z"
   },
   {
    "duration": 5,
    "start_time": "2024-09-20T12:50:22.924Z"
   },
   {
    "duration": 5,
    "start_time": "2024-09-20T12:52:56.330Z"
   },
   {
    "duration": 9,
    "start_time": "2024-09-20T12:59:08.608Z"
   },
   {
    "duration": 11,
    "start_time": "2024-09-20T13:00:28.170Z"
   },
   {
    "duration": 10,
    "start_time": "2024-09-20T13:00:41.657Z"
   },
   {
    "duration": 9,
    "start_time": "2024-09-20T13:00:59.841Z"
   },
   {
    "duration": 8,
    "start_time": "2024-09-20T13:01:08.930Z"
   },
   {
    "duration": 9,
    "start_time": "2024-09-20T13:01:14.657Z"
   },
   {
    "duration": 12,
    "start_time": "2024-09-20T13:01:25.617Z"
   },
   {
    "duration": 5,
    "start_time": "2024-09-20T13:03:04.977Z"
   },
   {
    "duration": 54,
    "start_time": "2024-09-20T13:03:11.209Z"
   },
   {
    "duration": 13,
    "start_time": "2024-09-20T13:03:52.873Z"
   },
   {
    "duration": 13,
    "start_time": "2024-09-20T13:04:06.056Z"
   },
   {
    "duration": 11,
    "start_time": "2024-09-20T13:04:14.033Z"
   },
   {
    "duration": 11,
    "start_time": "2024-09-20T13:04:21.264Z"
   },
   {
    "duration": 11,
    "start_time": "2024-09-20T13:05:01.872Z"
   },
   {
    "duration": 12,
    "start_time": "2024-09-20T13:05:57.679Z"
   },
   {
    "duration": 24,
    "start_time": "2024-09-20T13:06:04.624Z"
   },
   {
    "duration": 25,
    "start_time": "2024-09-20T13:06:07.295Z"
   },
   {
    "duration": 12,
    "start_time": "2024-09-20T13:06:17.575Z"
   },
   {
    "duration": 21,
    "start_time": "2024-09-20T13:06:27.513Z"
   },
   {
    "duration": 432,
    "start_time": "2024-09-20T13:06:41.752Z"
   },
   {
    "duration": 249,
    "start_time": "2024-09-20T13:06:42.767Z"
   },
   {
    "duration": 296,
    "start_time": "2024-09-20T13:06:46.039Z"
   },
   {
    "duration": 270,
    "start_time": "2024-09-20T13:06:47.904Z"
   },
   {
    "duration": 400,
    "start_time": "2024-09-20T13:06:50.000Z"
   },
   {
    "duration": 289,
    "start_time": "2024-09-20T13:06:53.095Z"
   },
   {
    "duration": 5,
    "start_time": "2024-09-20T13:06:57.127Z"
   },
   {
    "duration": 443,
    "start_time": "2024-09-20T13:06:59.872Z"
   },
   {
    "duration": 211,
    "start_time": "2024-09-20T13:07:02.840Z"
   },
   {
    "duration": 4,
    "start_time": "2024-09-20T13:07:06.006Z"
   },
   {
    "duration": 5,
    "start_time": "2024-09-20T13:07:08.400Z"
   },
   {
    "duration": 238,
    "start_time": "2024-09-20T13:07:09.679Z"
   },
   {
    "duration": 5,
    "start_time": "2024-09-20T13:07:17.230Z"
   },
   {
    "duration": 17,
    "start_time": "2024-09-20T13:07:30.263Z"
   },
   {
    "duration": 59,
    "start_time": "2024-09-20T13:07:42.983Z"
   },
   {
    "duration": 38,
    "start_time": "2024-09-20T13:07:47.752Z"
   },
   {
    "duration": 10,
    "start_time": "2024-09-20T13:08:05.631Z"
   },
   {
    "duration": 7,
    "start_time": "2024-09-20T13:08:21.007Z"
   },
   {
    "duration": 9,
    "start_time": "2024-09-20T13:09:42.734Z"
   },
   {
    "duration": 3,
    "start_time": "2024-09-20T13:09:50.102Z"
   },
   {
    "duration": 8,
    "start_time": "2024-09-20T13:10:42.766Z"
   },
   {
    "duration": 3,
    "start_time": "2024-09-20T13:11:04.290Z"
   },
   {
    "duration": 5,
    "start_time": "2024-09-20T13:11:09.911Z"
   },
   {
    "duration": 5,
    "start_time": "2024-09-20T13:12:00.541Z"
   },
   {
    "duration": 5,
    "start_time": "2024-09-20T13:12:10.703Z"
   },
   {
    "duration": 20,
    "start_time": "2024-09-20T13:12:49.213Z"
   },
   {
    "duration": 27,
    "start_time": "2024-09-20T13:14:07.156Z"
   },
   {
    "duration": 27,
    "start_time": "2024-09-20T13:14:29.596Z"
   },
   {
    "duration": 27,
    "start_time": "2024-09-20T13:14:41.541Z"
   },
   {
    "duration": 27,
    "start_time": "2024-09-20T13:15:34.645Z"
   },
   {
    "duration": 27,
    "start_time": "2024-09-20T13:15:43.492Z"
   },
   {
    "duration": 28,
    "start_time": "2024-09-20T13:16:30.901Z"
   },
   {
    "duration": 5,
    "start_time": "2024-09-20T13:22:51.227Z"
   },
   {
    "duration": 33,
    "start_time": "2024-09-20T13:22:54.482Z"
   },
   {
    "duration": 458,
    "start_time": "2024-09-20T13:23:56.258Z"
   },
   {
    "duration": 498,
    "start_time": "2024-09-20T13:27:20.226Z"
   },
   {
    "duration": 493,
    "start_time": "2024-09-20T13:27:36.026Z"
   },
   {
    "duration": 515,
    "start_time": "2024-09-20T13:27:47.905Z"
   },
   {
    "duration": 344,
    "start_time": "2024-09-20T13:29:24.777Z"
   },
   {
    "duration": 7,
    "start_time": "2024-09-20T13:29:33.601Z"
   },
   {
    "duration": 10,
    "start_time": "2024-09-20T13:30:07.328Z"
   },
   {
    "duration": 8,
    "start_time": "2024-09-20T13:30:11.153Z"
   },
   {
    "duration": 400,
    "start_time": "2024-09-20T13:31:42.321Z"
   },
   {
    "duration": 8,
    "start_time": "2024-09-20T13:31:45.201Z"
   },
   {
    "duration": 191,
    "start_time": "2024-09-20T13:31:48.888Z"
   },
   {
    "duration": 7,
    "start_time": "2024-09-20T13:32:54.096Z"
   },
   {
    "duration": 1547,
    "start_time": "2024-09-23T08:45:45.627Z"
   },
   {
    "duration": 1856,
    "start_time": "2024-09-23T08:45:47.176Z"
   },
   {
    "duration": 199,
    "start_time": "2024-09-23T08:45:49.033Z"
   },
   {
    "duration": 278,
    "start_time": "2024-09-23T08:45:49.233Z"
   },
   {
    "duration": 257,
    "start_time": "2024-09-23T08:45:49.512Z"
   },
   {
    "duration": 268,
    "start_time": "2024-09-23T08:45:49.770Z"
   },
   {
    "duration": 382,
    "start_time": "2024-09-23T08:45:50.039Z"
   },
   {
    "duration": 4,
    "start_time": "2024-09-23T08:45:50.422Z"
   },
   {
    "duration": 467,
    "start_time": "2024-09-23T08:45:50.428Z"
   },
   {
    "duration": 266,
    "start_time": "2024-09-23T08:45:50.898Z"
   },
   {
    "duration": 3,
    "start_time": "2024-09-23T08:45:51.165Z"
   },
   {
    "duration": 5,
    "start_time": "2024-09-23T08:45:51.169Z"
   },
   {
    "duration": 259,
    "start_time": "2024-09-23T08:45:51.175Z"
   },
   {
    "duration": 4,
    "start_time": "2024-09-23T08:45:51.436Z"
   },
   {
    "duration": 8,
    "start_time": "2024-09-23T08:45:51.442Z"
   },
   {
    "duration": 46,
    "start_time": "2024-09-23T08:45:51.451Z"
   },
   {
    "duration": 5,
    "start_time": "2024-09-23T08:47:48.060Z"
   },
   {
    "duration": 411,
    "start_time": "2024-09-23T08:47:50.180Z"
   },
   {
    "duration": 173,
    "start_time": "2024-09-23T08:47:58.940Z"
   },
   {
    "duration": 2,
    "start_time": "2024-09-23T08:48:06.852Z"
   },
   {
    "duration": 4,
    "start_time": "2024-09-23T08:48:08.267Z"
   },
   {
    "duration": 234,
    "start_time": "2024-09-23T08:48:10.917Z"
   },
   {
    "duration": 52,
    "start_time": "2024-09-23T08:49:30.084Z"
   },
   {
    "duration": 4,
    "start_time": "2024-09-23T08:49:52.052Z"
   },
   {
    "duration": 448,
    "start_time": "2024-09-23T08:49:54.643Z"
   },
   {
    "duration": 4,
    "start_time": "2024-09-23T08:50:12.603Z"
   },
   {
    "duration": 290,
    "start_time": "2024-09-23T08:51:13.099Z"
   },
   {
    "duration": 1115,
    "start_time": "2024-09-23T08:52:38.492Z"
   },
   {
    "duration": 5,
    "start_time": "2024-09-23T08:52:59.435Z"
   },
   {
    "duration": 560,
    "start_time": "2024-09-23T08:53:00.731Z"
   },
   {
    "duration": 325,
    "start_time": "2024-09-23T08:53:03.948Z"
   },
   {
    "duration": 284,
    "start_time": "2024-09-23T08:53:14.506Z"
   },
   {
    "duration": 281,
    "start_time": "2024-09-23T08:53:25.139Z"
   },
   {
    "duration": 393,
    "start_time": "2024-09-23T08:53:45.291Z"
   },
   {
    "duration": 275,
    "start_time": "2024-09-23T08:53:59.507Z"
   },
   {
    "duration": 292,
    "start_time": "2024-09-23T08:54:11.491Z"
   },
   {
    "duration": 312,
    "start_time": "2024-09-23T08:54:20.650Z"
   },
   {
    "duration": 303,
    "start_time": "2024-09-23T08:54:36.147Z"
   },
   {
    "duration": 430,
    "start_time": "2024-09-23T09:01:02.361Z"
   },
   {
    "duration": 110,
    "start_time": "2024-09-23T09:01:38.585Z"
   },
   {
    "duration": 117,
    "start_time": "2024-09-23T09:01:53.175Z"
   },
   {
    "duration": 90,
    "start_time": "2024-09-23T09:02:09.801Z"
   },
   {
    "duration": 158,
    "start_time": "2024-09-23T09:03:15.833Z"
   },
   {
    "duration": 34,
    "start_time": "2024-09-23T09:04:14.673Z"
   },
   {
    "duration": 436,
    "start_time": "2024-09-23T09:07:25.969Z"
   },
   {
    "duration": 3,
    "start_time": "2024-09-23T09:07:31.223Z"
   },
   {
    "duration": 7,
    "start_time": "2024-09-23T09:07:37.519Z"
   },
   {
    "duration": 8,
    "start_time": "2024-09-23T09:08:20.032Z"
   },
   {
    "duration": 8,
    "start_time": "2024-09-23T09:09:23.151Z"
   },
   {
    "duration": 8,
    "start_time": "2024-09-23T09:09:49.711Z"
   },
   {
    "duration": 7,
    "start_time": "2024-09-23T09:10:25.416Z"
   },
   {
    "duration": 8,
    "start_time": "2024-09-23T09:10:30.455Z"
   },
   {
    "duration": 370,
    "start_time": "2024-09-23T09:11:28.539Z"
   },
   {
    "duration": 9,
    "start_time": "2024-09-23T09:11:30.606Z"
   },
   {
    "duration": 120,
    "start_time": "2024-09-23T09:11:45.307Z"
   },
   {
    "duration": 9,
    "start_time": "2024-09-23T09:11:57.687Z"
   },
   {
    "duration": 3,
    "start_time": "2024-09-23T09:15:42.597Z"
   },
   {
    "duration": 4,
    "start_time": "2024-09-23T09:15:43.415Z"
   },
   {
    "duration": 313,
    "start_time": "2024-09-23T09:15:44.367Z"
   },
   {
    "duration": 443,
    "start_time": "2024-09-23T09:15:46.766Z"
   },
   {
    "duration": 8,
    "start_time": "2024-09-23T09:15:47.390Z"
   },
   {
    "duration": 11,
    "start_time": "2024-09-23T09:16:44.215Z"
   },
   {
    "duration": 9,
    "start_time": "2024-09-23T09:18:03.751Z"
   },
   {
    "duration": 45,
    "start_time": "2024-09-23T09:19:13.118Z"
   },
   {
    "duration": 4,
    "start_time": "2024-09-23T09:19:24.062Z"
   },
   {
    "duration": 10,
    "start_time": "2024-09-23T09:19:30.336Z"
   },
   {
    "duration": 4,
    "start_time": "2024-09-23T09:19:50.077Z"
   },
   {
    "duration": 10,
    "start_time": "2024-09-23T09:19:57.206Z"
   },
   {
    "duration": 4,
    "start_time": "2024-09-23T09:20:22.112Z"
   },
   {
    "duration": 123,
    "start_time": "2024-09-23T09:22:00.046Z"
   },
   {
    "duration": 4,
    "start_time": "2024-09-23T09:22:51.973Z"
   },
   {
    "duration": 9,
    "start_time": "2024-09-23T09:23:12.989Z"
   },
   {
    "duration": 9,
    "start_time": "2024-09-23T09:23:57.111Z"
   },
   {
    "duration": 10,
    "start_time": "2024-09-23T09:24:56.221Z"
   },
   {
    "duration": 10,
    "start_time": "2024-09-23T09:26:24.748Z"
   },
   {
    "duration": 61,
    "start_time": "2024-09-23T09:27:34.965Z"
   },
   {
    "duration": 64,
    "start_time": "2024-09-23T09:27:44.627Z"
   },
   {
    "duration": 194,
    "start_time": "2024-09-23T09:27:50.997Z"
   },
   {
    "duration": 3,
    "start_time": "2024-09-23T09:30:27.403Z"
   },
   {
    "duration": 14,
    "start_time": "2024-09-23T09:30:34.964Z"
   },
   {
    "duration": 9,
    "start_time": "2024-09-23T09:31:11.245Z"
   },
   {
    "duration": 10,
    "start_time": "2024-09-23T09:31:56.548Z"
   },
   {
    "duration": 11,
    "start_time": "2024-09-23T09:32:03.387Z"
   },
   {
    "duration": 9,
    "start_time": "2024-09-23T09:32:06.820Z"
   },
   {
    "duration": 51,
    "start_time": "2024-09-23T09:33:01.475Z"
   },
   {
    "duration": 11,
    "start_time": "2024-09-23T09:33:14.804Z"
   },
   {
    "duration": 10,
    "start_time": "2024-09-23T09:33:53.355Z"
   },
   {
    "duration": 14,
    "start_time": "2024-09-23T09:35:01.707Z"
   },
   {
    "duration": 9,
    "start_time": "2024-09-23T09:36:04.923Z"
   },
   {
    "duration": 11,
    "start_time": "2024-09-23T09:36:53.826Z"
   },
   {
    "duration": 112,
    "start_time": "2024-09-23T09:37:29.324Z"
   },
   {
    "duration": 132,
    "start_time": "2024-09-23T09:38:10.947Z"
   },
   {
    "duration": 232,
    "start_time": "2024-09-23T09:38:16.986Z"
   },
   {
    "duration": 116,
    "start_time": "2024-09-23T09:38:32.530Z"
   },
   {
    "duration": 116,
    "start_time": "2024-09-23T09:38:38.266Z"
   },
   {
    "duration": 124,
    "start_time": "2024-09-23T09:38:43.765Z"
   },
   {
    "duration": 127,
    "start_time": "2024-09-23T09:42:54.954Z"
   },
   {
    "duration": 141,
    "start_time": "2024-09-23T09:43:00.602Z"
   },
   {
    "duration": 135,
    "start_time": "2024-09-23T09:43:23.930Z"
   },
   {
    "duration": 312,
    "start_time": "2024-09-23T09:47:02.937Z"
   },
   {
    "duration": 114,
    "start_time": "2024-09-23T09:54:59.583Z"
   },
   {
    "duration": 362,
    "start_time": "2024-09-23T09:55:26.439Z"
   },
   {
    "duration": 8,
    "start_time": "2024-09-23T09:55:40.318Z"
   },
   {
    "duration": 875,
    "start_time": "2024-09-23T09:56:45.303Z"
   },
   {
    "duration": 264,
    "start_time": "2024-09-23T09:56:55.030Z"
   },
   {
    "duration": 4,
    "start_time": "2024-09-23T09:57:04.774Z"
   },
   {
    "duration": 11,
    "start_time": "2024-09-23T09:57:10.990Z"
   },
   {
    "duration": 19,
    "start_time": "2024-09-23T09:57:25.975Z"
   },
   {
    "duration": 12,
    "start_time": "2024-09-23T09:57:27.246Z"
   },
   {
    "duration": 6,
    "start_time": "2024-09-23T09:57:36.702Z"
   },
   {
    "duration": 9,
    "start_time": "2024-09-23T09:57:43.566Z"
   },
   {
    "duration": 2793,
    "start_time": "2024-09-23T10:00:16.718Z"
   },
   {
    "duration": 120,
    "start_time": "2024-09-23T10:01:25.710Z"
   },
   {
    "duration": 487,
    "start_time": "2024-09-23T10:02:22.261Z"
   },
   {
    "duration": 515,
    "start_time": "2024-09-23T10:06:29.556Z"
   },
   {
    "duration": 676,
    "start_time": "2024-09-23T10:09:09.668Z"
   },
   {
    "duration": 653,
    "start_time": "2024-09-23T10:09:21.568Z"
   },
   {
    "duration": 647,
    "start_time": "2024-09-23T10:13:39.564Z"
   },
   {
    "duration": 643,
    "start_time": "2024-09-23T10:14:03.637Z"
   },
   {
    "duration": 660,
    "start_time": "2024-09-23T10:14:13.170Z"
   },
   {
    "duration": 647,
    "start_time": "2024-09-23T10:14:32.787Z"
   },
   {
    "duration": 636,
    "start_time": "2024-09-23T10:15:25.611Z"
   },
   {
    "duration": 650,
    "start_time": "2024-09-23T10:15:33.362Z"
   },
   {
    "duration": 531,
    "start_time": "2024-09-23T10:16:20.246Z"
   },
   {
    "duration": 526,
    "start_time": "2024-09-23T10:16:26.634Z"
   },
   {
    "duration": 930,
    "start_time": "2024-09-23T10:18:27.027Z"
   },
   {
    "duration": 932,
    "start_time": "2024-09-23T10:18:54.066Z"
   },
   {
    "duration": 19,
    "start_time": "2024-09-23T10:21:40.483Z"
   },
   {
    "duration": 18,
    "start_time": "2024-09-23T10:22:57.730Z"
   },
   {
    "duration": 12,
    "start_time": "2024-09-23T10:23:17.545Z"
   },
   {
    "duration": 920,
    "start_time": "2024-09-23T10:23:39.282Z"
   },
   {
    "duration": 15,
    "start_time": "2024-09-23T10:24:19.403Z"
   },
   {
    "duration": 1126,
    "start_time": "2024-09-23T10:24:31.977Z"
   },
   {
    "duration": 1135,
    "start_time": "2024-09-23T10:24:40.233Z"
   },
   {
    "duration": 2167,
    "start_time": "2024-09-23T10:25:50.312Z"
   },
   {
    "duration": 2197,
    "start_time": "2024-09-23T10:27:41.456Z"
   },
   {
    "duration": 2203,
    "start_time": "2024-09-23T10:29:15.944Z"
   },
   {
    "duration": 2194,
    "start_time": "2024-09-23T10:29:28.496Z"
   },
   {
    "duration": 2166,
    "start_time": "2024-09-23T10:29:53.399Z"
   },
   {
    "duration": 2216,
    "start_time": "2024-09-23T10:31:22.831Z"
   },
   {
    "duration": 2180,
    "start_time": "2024-09-23T10:31:53.360Z"
   },
   {
    "duration": 2205,
    "start_time": "2024-09-23T10:32:13.680Z"
   },
   {
    "duration": 2194,
    "start_time": "2024-09-23T10:32:25.783Z"
   },
   {
    "duration": 2221,
    "start_time": "2024-09-23T10:33:13.695Z"
   },
   {
    "duration": 2230,
    "start_time": "2024-09-23T10:33:29.103Z"
   },
   {
    "duration": 2237,
    "start_time": "2024-09-23T10:33:56.527Z"
   },
   {
    "duration": 2261,
    "start_time": "2024-09-23T10:34:22.079Z"
   },
   {
    "duration": 2250,
    "start_time": "2024-09-23T10:34:49.527Z"
   },
   {
    "duration": 2229,
    "start_time": "2024-09-23T10:35:28.591Z"
   },
   {
    "duration": 2241,
    "start_time": "2024-09-23T10:35:48.807Z"
   },
   {
    "duration": 977,
    "start_time": "2024-09-23T10:38:12.376Z"
   },
   {
    "duration": 361,
    "start_time": "2024-09-23T10:38:14.936Z"
   },
   {
    "duration": 1323,
    "start_time": "2024-09-23T10:38:16.535Z"
   },
   {
    "duration": 3933,
    "start_time": "2024-09-23T10:39:26.600Z"
   },
   {
    "duration": 3875,
    "start_time": "2024-09-23T10:39:43.208Z"
   },
   {
    "duration": 3973,
    "start_time": "2024-09-23T10:40:20.558Z"
   },
   {
    "duration": 8,
    "start_time": "2024-09-23T10:42:03.853Z"
   },
   {
    "duration": 102,
    "start_time": "2024-09-23T10:42:09.910Z"
   },
   {
    "duration": 120,
    "start_time": "2024-09-23T10:42:48.038Z"
   },
   {
    "duration": 3989,
    "start_time": "2024-09-23T10:44:33.486Z"
   },
   {
    "duration": 4006,
    "start_time": "2024-09-23T10:48:05.101Z"
   },
   {
    "duration": 3944,
    "start_time": "2024-09-23T10:48:22.908Z"
   },
   {
    "duration": 128,
    "start_time": "2024-09-23T10:49:05.532Z"
   },
   {
    "duration": 132,
    "start_time": "2024-09-23T10:50:17.651Z"
   },
   {
    "duration": 147,
    "start_time": "2024-09-23T10:52:02.316Z"
   },
   {
    "duration": 123,
    "start_time": "2024-09-23T10:52:49.507Z"
   },
   {
    "duration": 142,
    "start_time": "2024-09-23T10:53:00.586Z"
   },
   {
    "duration": 221,
    "start_time": "2024-09-23T10:53:12.763Z"
   },
   {
    "duration": 37,
    "start_time": "2024-09-23T10:54:59.428Z"
   },
   {
    "duration": 1299,
    "start_time": "2024-09-23T10:56:15.721Z"
   },
   {
    "duration": 400,
    "start_time": "2024-09-23T10:56:17.022Z"
   },
   {
    "duration": 215,
    "start_time": "2024-09-23T10:56:17.424Z"
   },
   {
    "duration": 282,
    "start_time": "2024-09-23T10:56:17.641Z"
   },
   {
    "duration": 256,
    "start_time": "2024-09-23T10:56:17.925Z"
   },
   {
    "duration": 259,
    "start_time": "2024-09-23T10:56:18.183Z"
   },
   {
    "duration": 346,
    "start_time": "2024-09-23T10:56:18.443Z"
   },
   {
    "duration": 5,
    "start_time": "2024-09-23T10:56:18.791Z"
   },
   {
    "duration": 495,
    "start_time": "2024-09-23T10:56:18.797Z"
   },
   {
    "duration": 264,
    "start_time": "2024-09-23T10:56:19.296Z"
   },
   {
    "duration": 3,
    "start_time": "2024-09-23T10:56:19.561Z"
   },
   {
    "duration": 8,
    "start_time": "2024-09-23T10:56:19.565Z"
   },
   {
    "duration": 347,
    "start_time": "2024-09-23T10:56:19.574Z"
   },
   {
    "duration": 384,
    "start_time": "2024-09-23T10:56:19.923Z"
   },
   {
    "duration": 242,
    "start_time": "2024-09-23T10:56:20.391Z"
   },
   {
    "duration": 264,
    "start_time": "2024-09-23T10:56:20.634Z"
   },
   {
    "duration": 4078,
    "start_time": "2024-09-23T10:56:20.899Z"
   },
   {
    "duration": 129,
    "start_time": "2024-09-23T10:56:24.979Z"
   },
   {
    "duration": 1306,
    "start_time": "2024-09-23T10:57:14.238Z"
   },
   {
    "duration": 392,
    "start_time": "2024-09-23T10:57:15.546Z"
   },
   {
    "duration": 207,
    "start_time": "2024-09-23T10:57:15.939Z"
   },
   {
    "duration": 274,
    "start_time": "2024-09-23T10:57:16.147Z"
   },
   {
    "duration": 245,
    "start_time": "2024-09-23T10:57:16.424Z"
   },
   {
    "duration": 272,
    "start_time": "2024-09-23T10:57:16.671Z"
   },
   {
    "duration": 377,
    "start_time": "2024-09-23T10:57:16.946Z"
   },
   {
    "duration": 4,
    "start_time": "2024-09-23T10:57:17.325Z"
   },
   {
    "duration": 460,
    "start_time": "2024-09-23T10:57:17.331Z"
   },
   {
    "duration": 320,
    "start_time": "2024-09-23T10:57:17.794Z"
   },
   {
    "duration": 2,
    "start_time": "2024-09-23T10:57:18.116Z"
   },
   {
    "duration": 4,
    "start_time": "2024-09-23T10:57:18.119Z"
   },
   {
    "duration": 300,
    "start_time": "2024-09-23T10:57:18.124Z"
   },
   {
    "duration": 463,
    "start_time": "2024-09-23T10:57:18.427Z"
   },
   {
    "duration": 231,
    "start_time": "2024-09-23T10:57:18.892Z"
   },
   {
    "duration": 370,
    "start_time": "2024-09-23T10:57:19.125Z"
   },
   {
    "duration": 4116,
    "start_time": "2024-09-23T10:57:19.497Z"
   },
   {
    "duration": 131,
    "start_time": "2024-09-23T10:57:23.615Z"
   },
   {
    "duration": 3967,
    "start_time": "2024-09-23T11:36:09.210Z"
   },
   {
    "duration": 8,
    "start_time": "2024-09-23T11:48:27.848Z"
   },
   {
    "duration": 4,
    "start_time": "2024-09-23T11:57:20.871Z"
   },
   {
    "duration": 1364,
    "start_time": "2024-09-23T11:59:53.567Z"
   },
   {
    "duration": 393,
    "start_time": "2024-09-23T11:59:54.933Z"
   },
   {
    "duration": 209,
    "start_time": "2024-09-23T11:59:55.327Z"
   },
   {
    "duration": 276,
    "start_time": "2024-09-23T11:59:55.538Z"
   },
   {
    "duration": 252,
    "start_time": "2024-09-23T11:59:55.815Z"
   },
   {
    "duration": 258,
    "start_time": "2024-09-23T11:59:56.069Z"
   },
   {
    "duration": 329,
    "start_time": "2024-09-23T11:59:56.329Z"
   },
   {
    "duration": 5,
    "start_time": "2024-09-23T11:59:56.659Z"
   },
   {
    "duration": 526,
    "start_time": "2024-09-23T11:59:56.665Z"
   },
   {
    "duration": 276,
    "start_time": "2024-09-23T11:59:57.195Z"
   },
   {
    "duration": 2,
    "start_time": "2024-09-23T11:59:57.473Z"
   },
   {
    "duration": 19,
    "start_time": "2024-09-23T11:59:57.477Z"
   },
   {
    "duration": 295,
    "start_time": "2024-09-23T11:59:57.497Z"
   },
   {
    "duration": 495,
    "start_time": "2024-09-23T11:59:57.794Z"
   },
   {
    "duration": 233,
    "start_time": "2024-09-23T11:59:58.292Z"
   },
   {
    "duration": 367,
    "start_time": "2024-09-23T11:59:58.526Z"
   },
   {
    "duration": 96,
    "start_time": "2024-09-23T11:59:58.895Z"
   },
   {
    "duration": 4030,
    "start_time": "2024-09-23T11:59:58.992Z"
   },
   {
    "duration": 148,
    "start_time": "2024-09-23T12:00:03.023Z"
   },
   {
    "duration": 4,
    "start_time": "2024-09-23T12:04:05.702Z"
   },
   {
    "duration": 132,
    "start_time": "2024-09-23T12:04:17.382Z"
   },
   {
    "duration": 1335,
    "start_time": "2024-09-23T12:04:25.172Z"
   },
   {
    "duration": 394,
    "start_time": "2024-09-23T12:04:26.509Z"
   },
   {
    "duration": 215,
    "start_time": "2024-09-23T12:04:26.905Z"
   },
   {
    "duration": 288,
    "start_time": "2024-09-23T12:04:27.122Z"
   },
   {
    "duration": 249,
    "start_time": "2024-09-23T12:04:27.412Z"
   },
   {
    "duration": 253,
    "start_time": "2024-09-23T12:04:27.663Z"
   },
   {
    "duration": 350,
    "start_time": "2024-09-23T12:04:27.918Z"
   },
   {
    "duration": 5,
    "start_time": "2024-09-23T12:04:28.269Z"
   },
   {
    "duration": 515,
    "start_time": "2024-09-23T12:04:28.276Z"
   },
   {
    "duration": 267,
    "start_time": "2024-09-23T12:04:28.793Z"
   },
   {
    "duration": 2,
    "start_time": "2024-09-23T12:04:29.062Z"
   },
   {
    "duration": 10,
    "start_time": "2024-09-23T12:04:29.066Z"
   },
   {
    "duration": 314,
    "start_time": "2024-09-23T12:04:29.078Z"
   },
   {
    "duration": 405,
    "start_time": "2024-09-23T12:04:29.394Z"
   },
   {
    "duration": 221,
    "start_time": "2024-09-23T12:04:29.891Z"
   },
   {
    "duration": 376,
    "start_time": "2024-09-23T12:04:30.114Z"
   },
   {
    "duration": 97,
    "start_time": "2024-09-23T12:04:30.494Z"
   },
   {
    "duration": 3996,
    "start_time": "2024-09-23T12:04:30.594Z"
   },
   {
    "duration": 127,
    "start_time": "2024-09-23T12:04:34.592Z"
   },
   {
    "duration": 4,
    "start_time": "2024-09-23T12:06:06.215Z"
   },
   {
    "duration": 1322,
    "start_time": "2024-09-23T12:06:10.841Z"
   },
   {
    "duration": 409,
    "start_time": "2024-09-23T12:06:12.165Z"
   },
   {
    "duration": 234,
    "start_time": "2024-09-23T12:06:12.578Z"
   },
   {
    "duration": 303,
    "start_time": "2024-09-23T12:06:12.814Z"
   },
   {
    "duration": 288,
    "start_time": "2024-09-23T12:06:13.119Z"
   },
   {
    "duration": 283,
    "start_time": "2024-09-23T12:06:13.408Z"
   },
   {
    "duration": 360,
    "start_time": "2024-09-23T12:06:13.693Z"
   },
   {
    "duration": 5,
    "start_time": "2024-09-23T12:06:14.054Z"
   },
   {
    "duration": 531,
    "start_time": "2024-09-23T12:06:14.060Z"
   },
   {
    "duration": 253,
    "start_time": "2024-09-23T12:06:14.594Z"
   },
   {
    "duration": 3,
    "start_time": "2024-09-23T12:06:14.848Z"
   },
   {
    "duration": 11,
    "start_time": "2024-09-23T12:06:14.852Z"
   },
   {
    "duration": 339,
    "start_time": "2024-09-23T12:06:14.865Z"
   },
   {
    "duration": 402,
    "start_time": "2024-09-23T12:06:15.206Z"
   },
   {
    "duration": 236,
    "start_time": "2024-09-23T12:06:15.691Z"
   },
   {
    "duration": 362,
    "start_time": "2024-09-23T12:06:15.928Z"
   },
   {
    "duration": 99,
    "start_time": "2024-09-23T12:06:16.292Z"
   },
   {
    "duration": 4141,
    "start_time": "2024-09-23T12:06:16.393Z"
   },
   {
    "duration": 135,
    "start_time": "2024-09-23T12:06:20.535Z"
   },
   {
    "duration": 69,
    "start_time": "2024-09-23T12:39:06.723Z"
   },
   {
    "duration": 58,
    "start_time": "2024-09-23T12:39:47.170Z"
   },
   {
    "duration": 36783,
    "start_time": "2024-09-23T12:40:27.980Z"
   },
   {
    "duration": 5,
    "start_time": "2024-09-23T12:41:07.747Z"
   },
   {
    "duration": 112,
    "start_time": "2024-09-23T12:41:36.387Z"
   },
   {
    "duration": 2610,
    "start_time": "2024-09-23T12:42:07.835Z"
   },
   {
    "duration": 2629,
    "start_time": "2024-09-23T12:42:21.223Z"
   },
   {
    "duration": 1695,
    "start_time": "2024-09-23T12:42:23.854Z"
   },
   {
    "duration": 0,
    "start_time": "2024-09-23T12:42:25.553Z"
   },
   {
    "duration": 0,
    "start_time": "2024-09-23T12:42:25.554Z"
   },
   {
    "duration": 0,
    "start_time": "2024-09-23T12:42:25.555Z"
   },
   {
    "duration": 0,
    "start_time": "2024-09-23T12:42:25.556Z"
   },
   {
    "duration": 0,
    "start_time": "2024-09-23T12:42:25.557Z"
   },
   {
    "duration": 0,
    "start_time": "2024-09-23T12:42:25.558Z"
   },
   {
    "duration": 0,
    "start_time": "2024-09-23T12:42:25.559Z"
   },
   {
    "duration": 0,
    "start_time": "2024-09-23T12:42:25.560Z"
   },
   {
    "duration": 0,
    "start_time": "2024-09-23T12:42:25.561Z"
   },
   {
    "duration": 0,
    "start_time": "2024-09-23T12:42:25.562Z"
   },
   {
    "duration": 0,
    "start_time": "2024-09-23T12:42:25.563Z"
   },
   {
    "duration": 0,
    "start_time": "2024-09-23T12:42:25.564Z"
   },
   {
    "duration": 0,
    "start_time": "2024-09-23T12:42:25.565Z"
   },
   {
    "duration": 0,
    "start_time": "2024-09-23T12:42:25.590Z"
   },
   {
    "duration": 0,
    "start_time": "2024-09-23T12:42:25.591Z"
   },
   {
    "duration": 0,
    "start_time": "2024-09-23T12:42:25.592Z"
   },
   {
    "duration": 0,
    "start_time": "2024-09-23T12:42:25.593Z"
   },
   {
    "duration": 0,
    "start_time": "2024-09-23T12:42:25.594Z"
   },
   {
    "duration": 0,
    "start_time": "2024-09-23T12:42:25.594Z"
   },
   {
    "duration": 14,
    "start_time": "2024-09-23T12:43:27.307Z"
   },
   {
    "duration": 13,
    "start_time": "2024-09-23T12:43:31.186Z"
   },
   {
    "duration": 56,
    "start_time": "2024-09-23T12:44:40.130Z"
   },
   {
    "duration": 49,
    "start_time": "2024-09-23T12:44:44.698Z"
   },
   {
    "duration": 3,
    "start_time": "2024-09-23T12:44:48.130Z"
   },
   {
    "duration": 6772,
    "start_time": "2024-09-23T12:49:54.231Z"
   },
   {
    "duration": 0,
    "start_time": "2024-09-23T12:50:01.005Z"
   },
   {
    "duration": 15,
    "start_time": "2024-09-23T12:50:09.625Z"
   },
   {
    "duration": 13,
    "start_time": "2024-09-23T12:50:16.738Z"
   },
   {
    "duration": 7,
    "start_time": "2024-09-23T12:50:51.379Z"
   },
   {
    "duration": 0,
    "start_time": "2024-09-23T12:53:48.306Z"
   },
   {
    "duration": 0,
    "start_time": "2024-09-23T12:53:48.307Z"
   },
   {
    "duration": 8,
    "start_time": "2024-09-23T12:54:01.249Z"
   },
   {
    "duration": 14,
    "start_time": "2024-09-23T12:54:12.506Z"
   },
   {
    "duration": 9,
    "start_time": "2024-09-23T12:54:44.952Z"
   },
   {
    "duration": 0,
    "start_time": "2024-09-23T12:56:12.930Z"
   },
   {
    "duration": 277,
    "start_time": "2024-09-23T12:57:24.153Z"
   },
   {
    "duration": 4073,
    "start_time": "2024-09-23T12:57:28.831Z"
   },
   {
    "duration": 426,
    "start_time": "2024-09-23T12:57:32.906Z"
   },
   {
    "duration": 0,
    "start_time": "2024-09-23T12:57:33.334Z"
   },
   {
    "duration": 0,
    "start_time": "2024-09-23T12:57:33.335Z"
   },
   {
    "duration": 0,
    "start_time": "2024-09-23T12:57:33.336Z"
   },
   {
    "duration": 0,
    "start_time": "2024-09-23T12:57:33.338Z"
   },
   {
    "duration": 0,
    "start_time": "2024-09-23T12:57:33.338Z"
   },
   {
    "duration": 0,
    "start_time": "2024-09-23T12:57:33.340Z"
   },
   {
    "duration": 0,
    "start_time": "2024-09-23T12:57:33.340Z"
   },
   {
    "duration": 0,
    "start_time": "2024-09-23T12:57:33.341Z"
   },
   {
    "duration": 0,
    "start_time": "2024-09-23T12:57:33.342Z"
   },
   {
    "duration": 0,
    "start_time": "2024-09-23T12:57:33.343Z"
   },
   {
    "duration": 0,
    "start_time": "2024-09-23T12:57:33.344Z"
   },
   {
    "duration": 0,
    "start_time": "2024-09-23T12:57:33.345Z"
   },
   {
    "duration": 0,
    "start_time": "2024-09-23T12:57:33.346Z"
   },
   {
    "duration": 0,
    "start_time": "2024-09-23T12:57:33.347Z"
   },
   {
    "duration": 0,
    "start_time": "2024-09-23T12:57:33.348Z"
   },
   {
    "duration": 1,
    "start_time": "2024-09-23T12:57:33.348Z"
   },
   {
    "duration": 0,
    "start_time": "2024-09-23T12:57:33.350Z"
   },
   {
    "duration": 0,
    "start_time": "2024-09-23T12:57:33.350Z"
   },
   {
    "duration": 0,
    "start_time": "2024-09-23T12:57:33.351Z"
   },
   {
    "duration": 0,
    "start_time": "2024-09-23T12:57:33.352Z"
   },
   {
    "duration": 1139,
    "start_time": "2024-09-23T12:57:50.720Z"
   },
   {
    "duration": 3266,
    "start_time": "2024-09-23T12:58:09.816Z"
   },
   {
    "duration": 1525,
    "start_time": "2024-09-23T12:58:19.505Z"
   },
   {
    "duration": 218,
    "start_time": "2024-09-23T12:58:28.224Z"
   },
   {
    "duration": 411,
    "start_time": "2024-09-23T12:58:34.408Z"
   },
   {
    "duration": 194,
    "start_time": "2024-09-23T12:58:36.983Z"
   },
   {
    "duration": 3241,
    "start_time": "2024-09-23T12:58:43.174Z"
   },
   {
    "duration": 1638,
    "start_time": "2024-09-23T12:58:46.417Z"
   },
   {
    "duration": 397,
    "start_time": "2024-09-23T12:58:48.056Z"
   },
   {
    "duration": 191,
    "start_time": "2024-09-23T12:58:48.455Z"
   },
   {
    "duration": 434,
    "start_time": "2024-09-23T12:58:48.647Z"
   },
   {
    "duration": 383,
    "start_time": "2024-09-23T12:58:49.082Z"
   },
   {
    "duration": 488,
    "start_time": "2024-09-23T12:58:49.467Z"
   },
   {
    "duration": 448,
    "start_time": "2024-09-23T12:58:49.957Z"
   },
   {
    "duration": 102,
    "start_time": "2024-09-23T12:58:50.406Z"
   },
   {
    "duration": 0,
    "start_time": "2024-09-23T12:58:50.509Z"
   },
   {
    "duration": 0,
    "start_time": "2024-09-23T12:58:50.510Z"
   },
   {
    "duration": 0,
    "start_time": "2024-09-23T12:58:50.511Z"
   },
   {
    "duration": 0,
    "start_time": "2024-09-23T12:58:50.512Z"
   },
   {
    "duration": 0,
    "start_time": "2024-09-23T12:58:50.514Z"
   },
   {
    "duration": 0,
    "start_time": "2024-09-23T12:58:50.516Z"
   },
   {
    "duration": 0,
    "start_time": "2024-09-23T12:58:50.517Z"
   },
   {
    "duration": 0,
    "start_time": "2024-09-23T12:58:50.518Z"
   },
   {
    "duration": 0,
    "start_time": "2024-09-23T12:58:50.519Z"
   },
   {
    "duration": 0,
    "start_time": "2024-09-23T12:58:50.520Z"
   },
   {
    "duration": 0,
    "start_time": "2024-09-23T12:58:50.521Z"
   },
   {
    "duration": 0,
    "start_time": "2024-09-23T12:58:50.522Z"
   },
   {
    "duration": 3283,
    "start_time": "2024-09-23T12:59:36.470Z"
   },
   {
    "duration": 1594,
    "start_time": "2024-09-23T12:59:39.755Z"
   },
   {
    "duration": 394,
    "start_time": "2024-09-23T12:59:41.351Z"
   },
   {
    "duration": 203,
    "start_time": "2024-09-23T12:59:41.747Z"
   },
   {
    "duration": 424,
    "start_time": "2024-09-23T12:59:41.951Z"
   },
   {
    "duration": 384,
    "start_time": "2024-09-23T12:59:42.376Z"
   },
   {
    "duration": 537,
    "start_time": "2024-09-23T12:59:42.761Z"
   },
   {
    "duration": 419,
    "start_time": "2024-09-23T12:59:43.300Z"
   },
   {
    "duration": 5,
    "start_time": "2024-09-23T12:59:43.721Z"
   },
   {
    "duration": 463,
    "start_time": "2024-09-23T12:59:43.728Z"
   },
   {
    "duration": 434,
    "start_time": "2024-09-23T12:59:44.193Z"
   },
   {
    "duration": 2,
    "start_time": "2024-09-23T12:59:44.629Z"
   },
   {
    "duration": 7,
    "start_time": "2024-09-23T12:59:44.632Z"
   },
   {
    "duration": 354,
    "start_time": "2024-09-23T12:59:44.640Z"
   },
   {
    "duration": 406,
    "start_time": "2024-09-23T12:59:44.996Z"
   },
   {
    "duration": 360,
    "start_time": "2024-09-23T12:59:45.489Z"
   },
   {
    "duration": 346,
    "start_time": "2024-09-23T12:59:45.850Z"
   },
   {
    "duration": 94,
    "start_time": "2024-09-23T12:59:46.198Z"
   },
   {
    "duration": 3856,
    "start_time": "2024-09-23T12:59:46.294Z"
   },
   {
    "duration": 240,
    "start_time": "2024-09-23T12:59:50.151Z"
   },
   {
    "duration": 1538,
    "start_time": "2024-09-25T10:33:16.986Z"
   },
   {
    "duration": 1768,
    "start_time": "2024-09-25T10:33:18.535Z"
   },
   {
    "duration": 103,
    "start_time": "2024-09-25T10:33:28.374Z"
   },
   {
    "duration": 783,
    "start_time": "2024-09-25T10:33:40.991Z"
   },
   {
    "duration": 4,
    "start_time": "2024-09-25T10:37:23.653Z"
   },
   {
    "duration": 340,
    "start_time": "2024-09-25T10:37:59.150Z"
   },
   {
    "duration": 534,
    "start_time": "2024-09-25T10:38:19.383Z"
   },
   {
    "duration": 5,
    "start_time": "2024-09-25T10:41:00.046Z"
   },
   {
    "duration": 12,
    "start_time": "2024-09-25T10:41:21.207Z"
   },
   {
    "duration": 725,
    "start_time": "2024-09-25T10:41:44.806Z"
   },
   {
    "duration": 648,
    "start_time": "2024-09-25T10:42:05.791Z"
   },
   {
    "duration": 730,
    "start_time": "2024-09-25T10:42:13.665Z"
   },
   {
    "duration": 645,
    "start_time": "2024-09-25T10:42:19.963Z"
   },
   {
    "duration": 605,
    "start_time": "2024-09-25T10:42:26.639Z"
   },
   {
    "duration": 52,
    "start_time": "2024-09-25T10:42:36.765Z"
   },
   {
    "duration": 607,
    "start_time": "2024-09-25T10:42:42.015Z"
   },
   {
    "duration": 619,
    "start_time": "2024-09-25T10:42:51.647Z"
   },
   {
    "duration": 654,
    "start_time": "2024-09-25T10:42:58.942Z"
   },
   {
    "duration": 780,
    "start_time": "2024-09-25T10:43:04.413Z"
   },
   {
    "duration": 718,
    "start_time": "2024-09-25T10:43:17.605Z"
   },
   {
    "duration": 2017,
    "start_time": "2024-09-25T10:45:48.998Z"
   },
   {
    "duration": 2758,
    "start_time": "2024-09-25T10:48:32.589Z"
   },
   {
    "duration": 2521,
    "start_time": "2024-09-25T10:48:46.125Z"
   },
   {
    "duration": 298,
    "start_time": "2024-09-25T10:49:29.637Z"
   },
   {
    "duration": 2224,
    "start_time": "2024-09-25T10:49:34.932Z"
   },
   {
    "duration": 2295,
    "start_time": "2024-09-25T10:51:10.364Z"
   },
   {
    "duration": 2304,
    "start_time": "2024-09-25T10:56:34.764Z"
   },
   {
    "duration": 773,
    "start_time": "2024-09-25T10:57:44.155Z"
   },
   {
    "duration": 2298,
    "start_time": "2024-09-25T10:59:10.252Z"
   },
   {
    "duration": 2613,
    "start_time": "2024-09-25T10:59:36.533Z"
   },
   {
    "duration": 5,
    "start_time": "2024-09-25T11:00:34.867Z"
   },
   {
    "duration": 457,
    "start_time": "2024-09-25T11:00:37.165Z"
   },
   {
    "duration": 184,
    "start_time": "2024-09-25T11:00:42.363Z"
   },
   {
    "duration": 14848,
    "start_time": "2024-09-25T11:01:27.659Z"
   },
   {
    "duration": 500,
    "start_time": "2024-09-25T11:01:42.509Z"
   },
   {
    "duration": 0,
    "start_time": "2024-09-25T11:01:43.010Z"
   },
   {
    "duration": 0,
    "start_time": "2024-09-25T11:01:43.012Z"
   },
   {
    "duration": 1,
    "start_time": "2024-09-25T11:01:43.012Z"
   },
   {
    "duration": 0,
    "start_time": "2024-09-25T11:01:43.014Z"
   },
   {
    "duration": 0,
    "start_time": "2024-09-25T11:01:43.015Z"
   },
   {
    "duration": 0,
    "start_time": "2024-09-25T11:01:43.017Z"
   },
   {
    "duration": 0,
    "start_time": "2024-09-25T11:01:43.018Z"
   },
   {
    "duration": 0,
    "start_time": "2024-09-25T11:01:43.019Z"
   },
   {
    "duration": 0,
    "start_time": "2024-09-25T11:01:43.020Z"
   },
   {
    "duration": 0,
    "start_time": "2024-09-25T11:01:43.021Z"
   },
   {
    "duration": 0,
    "start_time": "2024-09-25T11:01:43.022Z"
   },
   {
    "duration": 0,
    "start_time": "2024-09-25T11:01:43.023Z"
   },
   {
    "duration": 0,
    "start_time": "2024-09-25T11:01:43.024Z"
   },
   {
    "duration": 0,
    "start_time": "2024-09-25T11:01:43.025Z"
   },
   {
    "duration": 0,
    "start_time": "2024-09-25T11:01:43.026Z"
   },
   {
    "duration": 430,
    "start_time": "2024-09-25T11:02:16.553Z"
   },
   {
    "duration": 0,
    "start_time": "2024-09-25T11:02:16.985Z"
   },
   {
    "duration": 0,
    "start_time": "2024-09-25T11:02:16.987Z"
   },
   {
    "duration": 0,
    "start_time": "2024-09-25T11:02:16.988Z"
   },
   {
    "duration": 0,
    "start_time": "2024-09-25T11:02:16.989Z"
   },
   {
    "duration": 0,
    "start_time": "2024-09-25T11:02:16.990Z"
   },
   {
    "duration": 0,
    "start_time": "2024-09-25T11:02:16.991Z"
   },
   {
    "duration": 0,
    "start_time": "2024-09-25T11:02:16.992Z"
   },
   {
    "duration": 0,
    "start_time": "2024-09-25T11:02:16.993Z"
   },
   {
    "duration": 0,
    "start_time": "2024-09-25T11:02:16.995Z"
   },
   {
    "duration": 0,
    "start_time": "2024-09-25T11:02:16.996Z"
   },
   {
    "duration": 0,
    "start_time": "2024-09-25T11:02:16.997Z"
   },
   {
    "duration": 0,
    "start_time": "2024-09-25T11:02:16.998Z"
   },
   {
    "duration": 0,
    "start_time": "2024-09-25T11:02:16.999Z"
   },
   {
    "duration": 0,
    "start_time": "2024-09-25T11:02:17.000Z"
   },
   {
    "duration": 0,
    "start_time": "2024-09-25T11:02:17.001Z"
   },
   {
    "duration": 224,
    "start_time": "2024-09-25T11:02:32.811Z"
   },
   {
    "duration": 9,
    "start_time": "2024-09-25T11:03:11.323Z"
   },
   {
    "duration": 46676,
    "start_time": "2024-09-25T11:03:57.530Z"
   },
   {
    "duration": 14,
    "start_time": "2024-09-25T11:04:44.208Z"
   },
   {
    "duration": 10,
    "start_time": "2024-09-25T11:04:51.706Z"
   },
   {
    "duration": 1427,
    "start_time": "2024-09-25T11:06:47.970Z"
   },
   {
    "duration": 0,
    "start_time": "2024-09-25T11:06:49.399Z"
   },
   {
    "duration": 0,
    "start_time": "2024-09-25T11:06:49.402Z"
   },
   {
    "duration": 0,
    "start_time": "2024-09-25T11:06:49.403Z"
   },
   {
    "duration": 0,
    "start_time": "2024-09-25T11:06:49.405Z"
   },
   {
    "duration": 0,
    "start_time": "2024-09-25T11:06:49.406Z"
   },
   {
    "duration": 0,
    "start_time": "2024-09-25T11:06:49.408Z"
   },
   {
    "duration": 0,
    "start_time": "2024-09-25T11:06:49.409Z"
   },
   {
    "duration": 0,
    "start_time": "2024-09-25T11:06:49.411Z"
   },
   {
    "duration": 0,
    "start_time": "2024-09-25T11:06:49.412Z"
   },
   {
    "duration": 0,
    "start_time": "2024-09-25T11:06:49.413Z"
   },
   {
    "duration": 0,
    "start_time": "2024-09-25T11:06:49.415Z"
   },
   {
    "duration": 0,
    "start_time": "2024-09-25T11:06:49.416Z"
   },
   {
    "duration": 1,
    "start_time": "2024-09-25T11:06:49.417Z"
   },
   {
    "duration": 0,
    "start_time": "2024-09-25T11:06:49.419Z"
   },
   {
    "duration": 0,
    "start_time": "2024-09-25T11:06:49.420Z"
   },
   {
    "duration": 1621,
    "start_time": "2024-09-25T19:42:12.784Z"
   },
   {
    "duration": 981,
    "start_time": "2024-09-25T19:42:14.407Z"
   },
   {
    "duration": 244,
    "start_time": "2024-09-25T19:42:15.390Z"
   },
   {
    "duration": 2855,
    "start_time": "2024-09-25T19:42:15.637Z"
   },
   {
    "duration": 5,
    "start_time": "2024-09-25T19:42:18.494Z"
   },
   {
    "duration": 561,
    "start_time": "2024-09-25T19:42:18.500Z"
   },
   {
    "duration": 507,
    "start_time": "2024-09-25T19:42:19.063Z"
   },
   {
    "duration": 3,
    "start_time": "2024-09-25T19:42:19.572Z"
   },
   {
    "duration": 210,
    "start_time": "2024-09-25T19:42:19.576Z"
   },
   {
    "duration": 0,
    "start_time": "2024-09-25T19:42:19.788Z"
   },
   {
    "duration": 0,
    "start_time": "2024-09-25T19:42:19.789Z"
   },
   {
    "duration": 0,
    "start_time": "2024-09-25T19:42:19.790Z"
   },
   {
    "duration": 0,
    "start_time": "2024-09-25T19:42:19.791Z"
   },
   {
    "duration": 0,
    "start_time": "2024-09-25T19:42:19.792Z"
   },
   {
    "duration": 0,
    "start_time": "2024-09-25T19:42:19.793Z"
   },
   {
    "duration": 0,
    "start_time": "2024-09-25T19:42:19.794Z"
   },
   {
    "duration": 865,
    "start_time": "2024-09-25T19:46:16.477Z"
   },
   {
    "duration": 73,
    "start_time": "2024-09-25T19:56:45.867Z"
   },
   {
    "duration": 16,
    "start_time": "2024-09-25T19:57:01.666Z"
   },
   {
    "duration": 989,
    "start_time": "2024-09-25T20:01:49.146Z"
   },
   {
    "duration": 990,
    "start_time": "2024-09-25T20:02:06.835Z"
   },
   {
    "duration": 915,
    "start_time": "2024-09-25T20:04:28.328Z"
   },
   {
    "duration": 20,
    "start_time": "2024-09-25T20:09:07.682Z"
   },
   {
    "duration": 18,
    "start_time": "2024-09-25T20:09:22.095Z"
   },
   {
    "duration": 26,
    "start_time": "2024-09-25T20:10:10.234Z"
   },
   {
    "duration": 19,
    "start_time": "2024-09-25T20:11:26.563Z"
   },
   {
    "duration": 18,
    "start_time": "2024-09-25T20:12:10.197Z"
   },
   {
    "duration": 50,
    "start_time": "2024-09-26T05:56:58.671Z"
   },
   {
    "duration": 1724,
    "start_time": "2024-09-26T05:57:06.881Z"
   },
   {
    "duration": 1164,
    "start_time": "2024-09-26T05:57:08.607Z"
   },
   {
    "duration": 551,
    "start_time": "2024-09-26T05:57:09.772Z"
   },
   {
    "duration": 2905,
    "start_time": "2024-09-26T05:57:10.325Z"
   },
   {
    "duration": 126,
    "start_time": "2024-09-26T05:57:13.231Z"
   },
   {
    "duration": 0,
    "start_time": "2024-09-26T05:57:13.358Z"
   },
   {
    "duration": 0,
    "start_time": "2024-09-26T05:57:13.360Z"
   },
   {
    "duration": 0,
    "start_time": "2024-09-26T05:57:13.361Z"
   },
   {
    "duration": 0,
    "start_time": "2024-09-26T05:57:13.362Z"
   },
   {
    "duration": 0,
    "start_time": "2024-09-26T05:57:13.363Z"
   },
   {
    "duration": 0,
    "start_time": "2024-09-26T05:57:13.364Z"
   },
   {
    "duration": 0,
    "start_time": "2024-09-26T05:57:13.365Z"
   },
   {
    "duration": 0,
    "start_time": "2024-09-26T05:57:13.366Z"
   },
   {
    "duration": 0,
    "start_time": "2024-09-26T05:57:13.367Z"
   },
   {
    "duration": 0,
    "start_time": "2024-09-26T05:57:13.368Z"
   },
   {
    "duration": 0,
    "start_time": "2024-09-26T05:57:13.369Z"
   },
   {
    "duration": 0,
    "start_time": "2024-09-26T05:57:13.369Z"
   },
   {
    "duration": 941,
    "start_time": "2024-09-26T05:58:14.719Z"
   },
   {
    "duration": 1026,
    "start_time": "2024-09-26T05:59:11.796Z"
   },
   {
    "duration": 859,
    "start_time": "2024-09-26T05:59:18.834Z"
   },
   {
    "duration": 1010,
    "start_time": "2024-09-26T05:59:38.422Z"
   },
   {
    "duration": 1225,
    "start_time": "2024-09-26T06:00:11.592Z"
   },
   {
    "duration": 664,
    "start_time": "2024-09-26T06:01:21.992Z"
   },
   {
    "duration": 679,
    "start_time": "2024-09-26T06:01:33.650Z"
   },
   {
    "duration": 776,
    "start_time": "2024-09-26T06:02:22.779Z"
   },
   {
    "duration": 2738,
    "start_time": "2024-09-26T06:03:27.266Z"
   },
   {
    "duration": 1420,
    "start_time": "2024-09-26T06:04:09.851Z"
   },
   {
    "duration": 442,
    "start_time": "2024-09-26T06:04:11.273Z"
   },
   {
    "duration": 252,
    "start_time": "2024-09-26T06:04:11.716Z"
   },
   {
    "duration": 2775,
    "start_time": "2024-09-26T06:04:11.970Z"
   },
   {
    "duration": 715,
    "start_time": "2024-09-26T06:04:14.747Z"
   },
   {
    "duration": 5,
    "start_time": "2024-09-26T06:04:15.464Z"
   },
   {
    "duration": 551,
    "start_time": "2024-09-26T06:04:15.471Z"
   },
   {
    "duration": 288,
    "start_time": "2024-09-26T06:04:16.024Z"
   },
   {
    "duration": 7,
    "start_time": "2024-09-26T06:04:16.314Z"
   },
   {
    "duration": 116,
    "start_time": "2024-09-26T06:04:16.324Z"
   },
   {
    "duration": 0,
    "start_time": "2024-09-26T06:04:16.443Z"
   },
   {
    "duration": 0,
    "start_time": "2024-09-26T06:04:16.444Z"
   },
   {
    "duration": 0,
    "start_time": "2024-09-26T06:04:16.446Z"
   },
   {
    "duration": 0,
    "start_time": "2024-09-26T06:04:16.447Z"
   },
   {
    "duration": 0,
    "start_time": "2024-09-26T06:04:16.449Z"
   },
   {
    "duration": 0,
    "start_time": "2024-09-26T06:04:16.450Z"
   },
   {
    "duration": 0,
    "start_time": "2024-09-26T06:04:16.452Z"
   },
   {
    "duration": 671,
    "start_time": "2024-09-26T06:07:50.284Z"
   },
   {
    "duration": 779,
    "start_time": "2024-09-26T06:08:20.708Z"
   },
   {
    "duration": 1508,
    "start_time": "2024-09-26T11:04:50.990Z"
   },
   {
    "duration": 1870,
    "start_time": "2024-09-26T11:04:52.499Z"
   },
   {
    "duration": 228,
    "start_time": "2024-09-26T11:04:54.370Z"
   },
   {
    "duration": 2584,
    "start_time": "2024-09-26T11:04:54.608Z"
   },
   {
    "duration": 631,
    "start_time": "2024-09-26T11:04:57.193Z"
   },
   {
    "duration": 7,
    "start_time": "2024-09-26T11:04:57.826Z"
   },
   {
    "duration": 378,
    "start_time": "2024-09-26T11:04:57.834Z"
   },
   {
    "duration": 277,
    "start_time": "2024-09-26T11:04:58.215Z"
   },
   {
    "duration": 3,
    "start_time": "2024-09-26T11:04:58.493Z"
   },
   {
    "duration": 129,
    "start_time": "2024-09-26T11:04:58.499Z"
   },
   {
    "duration": 0,
    "start_time": "2024-09-26T11:04:58.629Z"
   },
   {
    "duration": 0,
    "start_time": "2024-09-26T11:04:58.631Z"
   },
   {
    "duration": 0,
    "start_time": "2024-09-26T11:04:58.632Z"
   },
   {
    "duration": 0,
    "start_time": "2024-09-26T11:04:58.633Z"
   },
   {
    "duration": 0,
    "start_time": "2024-09-26T11:04:58.634Z"
   },
   {
    "duration": 0,
    "start_time": "2024-09-26T11:04:58.635Z"
   },
   {
    "duration": 0,
    "start_time": "2024-09-26T11:04:58.636Z"
   },
   {
    "duration": 4,
    "start_time": "2024-09-26T11:08:50.643Z"
   },
   {
    "duration": 4,
    "start_time": "2024-09-26T11:09:01.788Z"
   },
   {
    "duration": 285,
    "start_time": "2024-09-26T11:09:05.259Z"
   }
  ],
  "kernelspec": {
   "display_name": "Python 3 (ipykernel)",
   "language": "python",
   "name": "python3"
  },
  "language_info": {
   "codemirror_mode": {
    "name": "ipython",
    "version": 3
   },
   "file_extension": ".py",
   "mimetype": "text/x-python",
   "name": "python",
   "nbconvert_exporter": "python",
   "pygments_lexer": "ipython3",
   "version": "3.9.5"
  },
  "toc": {
   "base_numbering": 1,
   "nav_menu": {},
   "number_sections": true,
   "sideBar": true,
   "skip_h1_title": true,
   "title_cell": "Table of Contents",
   "title_sidebar": "Contents",
   "toc_cell": false,
   "toc_position": {
    "height": "calc(100% - 180px)",
    "left": "10px",
    "top": "150px",
    "width": "384px"
   },
   "toc_section_display": true,
   "toc_window_display": false
  }
 },
 "nbformat": 4,
 "nbformat_minor": 2
}
